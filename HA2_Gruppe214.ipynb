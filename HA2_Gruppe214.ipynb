{
 "cells": [
  {
   "cell_type": "markdown",
   "metadata": {},
   "source": [
    "# Hausaufgabe 2\n",
    "## Ablassung eines Stausees\n",
    "<!-- Lizensiert unter (CC BY 4.0) Gert Herold, 2021 -->\n",
    "\n",
    "Wegen Reparaturarbeiten an der Staumauer einer Talsperre soll das Wasser abgelassen werden. Der See habe ein Fassungsvermögen von $215 \\cdot 10^6\\,\\text{m}^3$. Die Oberfläche des Stausees erstrecke sich über $10\\,\\text{km}^2$. Der Wasserauslass auf Grundhöhe habe einen Querschnitt von $2\\,\\text{m}^2$. Der Fluss selbst werde so umgeleitet, dass kein Wasser in den See nachfließen kann."
   ]
  },
  {
   "cell_type": "markdown",
   "metadata": {},
   "source": [
    "### 1) Anfangsbedingungen\n",
    "\n",
    "**1.1) Es werde angenommen, die Form des Sees lasse sich mit einem umgedrehten [Kegel](https://de.wikipedia.org/wiki/Kegel_(Geometrie)) annähern. Wie tief ist dann der See?**\n",
    "\n",
    "Speichern Sie das Ergebnis (in Metern) in der Variablen `h0` und geben Sie sie aus."
   ]
  },
  {
   "cell_type": "code",
   "execution_count": 1,
   "metadata": {},
   "outputs": [
    {
     "name": "stdout",
     "output_type": "stream",
     "text": [
      "64.5\n"
     ]
    }
   ],
   "source": [
    "h0 = None \n",
    "# Hier eigenen Code schreiben ...\n",
    "A0 = 10 * 10**6\n",
    "V = 215 * 10**6\n",
    "h0 = V*3/A0\n",
    "print(h0)"
   ]
  },
  {
   "cell_type": "code",
   "execution_count": 2,
   "metadata": {
    "deletable": false,
    "editable": false,
    "tags": []
   },
   "outputs": [],
   "source": [
    "# Hier ist ein Plausibilitäts-Test:\n",
    "assert 60 < h0 < 80"
   ]
  },
  {
   "cell_type": "markdown",
   "metadata": {},
   "source": [
    "Vereinfachend werde angenommen, dass die sich ausbildende Strömung sich mithilfe der [Bernoulli-Gleichung](https://de.wikipedia.org/wiki/Bernoulli-Gleichung) beschreiben lasse:\n",
    "\n",
    "$$\n",
    "\\frac{u^2}{2}+\\frac{p}{\\rho}+g \\, z = \\text{const}\n",
    "$$\n",
    "\n",
    "Dabei beschreibt $u$ die Strömungsgeschwindigkeit des Fluids an einer beliebigen betrachteten Stelle, $p$ den hydrodynamischen Druck, $\\rho$ die Dichte und $z$ die Höhe. $g=9{,}81\\frac{\\text{m}}{\\text{s}^2}$ ist die Erdbeschleunigung. Werden nur die Seeoberfläche und der Ausfluss betrachtet, so kann der Druck $p$ ebenfalls als konstant angenommen werden, da er dem Umgebungsdruck entspricht. Ebenso wird die Dichte als konstant angenommen, und die obige Gleichung vereinfacht sich zu \n",
    "\n",
    "$$\n",
    "\\frac{u^2}{2}+g \\, z = \\text{const}\n",
    "$$\n",
    "\n",
    "bzw. für oben und unten:\n",
    "\n",
    "$$\n",
    "\\frac{u_\\text{oben}^2}{2}+g \\, z_\\text{oben} = \\frac{u_\\text{unten}^2}{2}+g \\, z_\\text{unten}\n",
    "$$"
   ]
  },
  {
   "cell_type": "markdown",
   "metadata": {},
   "source": [
    "**1.2) Berechnen Sie die sich anfangs ausbildende Strömungsgeschwindigkeit am Ausfluss $u_\\text{unten,0}$ (`u_unten0`) in m/s sowie den Volumenstrom $\\dot{V_0}$ (`Vdot0`) in m³/s unter der Annahme, dass die Bewegung der Seeoberfläche vernachlässigbar ist.**"
   ]
  },
  {
   "cell_type": "code",
   "execution_count": 3,
   "metadata": {},
   "outputs": [
    {
     "name": "stdout",
     "output_type": "stream",
     "text": [
      "35.57372625969902\n",
      "71.14745251939804\n"
     ]
    }
   ],
   "source": [
    "u_unten0 = None\n",
    "Vdot0 = None\n",
    "# Hier eigenen Code schreiben ...\n",
    "from math import sqrt, pi\n",
    "\n",
    "g = 9.81\n",
    "A_Auslass = 2\n",
    "\n",
    "u_unten0 = sqrt(2*g*h0)\n",
    "Vdot0 = A_Auslass * u_unten0\n",
    "\n",
    "print(u_unten0)\n",
    "print(Vdot0)"
   ]
  },
  {
   "cell_type": "code",
   "execution_count": 4,
   "metadata": {
    "deletable": false,
    "editable": false,
    "tags": []
   },
   "outputs": [],
   "source": [
    "# Hier sind einige Plausibilitäts-Tests:\n",
    "assert u_unten0 > 30\n",
    "assert Vdot0 < 80"
   ]
  },
  {
   "cell_type": "markdown",
   "metadata": {},
   "source": [
    "Tipp: Um die Kreiszahl $\\pi$ unter Python verwenden zu können, muss man sie entweder selbst definieren oder z.B. aus dem [NumPy-Modul](https://numpy.org/) importieren. Für ein Beispiel den folgenden Code-Abschnitt öffnen."
   ]
  },
  {
   "cell_type": "code",
   "execution_count": 5,
   "metadata": {
    "jupyter": {
     "source_hidden": true
    },
    "tags": []
   },
   "outputs": [
    {
     "name": "stdout",
     "output_type": "stream",
     "text": [
      "Radius: 1.78 km\n"
     ]
    }
   ],
   "source": [
    "# Importiere pi aus numpy\n",
    "from numpy import pi\n",
    "\n",
    "# Berechne den \"Radius\" der Seeoberfläche\n",
    "r0 = (A0/pi)**0.5\n",
    "print(f'Radius: {r0/1000:.2f} km')"
   ]
  },
  {
   "cell_type": "markdown",
   "metadata": {},
   "source": [
    "### 2) Leerung des Sees\n",
    "\n",
    "**2.1) Schreiben Sie eine Funktion, die die Tiefe des \"Kegel\"-Sees (in Metern) allgemein abhängig von der enthaltenen Wassermenge bestimmt.**\n",
    "\n",
    "Beachten Sie, dass sich die Form des Sees [nicht verändert](https://de.wikipedia.org/wiki/Strahlensatz) und somit der oben gegebene Wert für die Oberfläche nur bei vollem See gilt."
   ]
  },
  {
   "cell_type": "code",
   "execution_count": 6,
   "metadata": {},
   "outputs": [],
   "source": [
    "from math import pi\n",
    "def tiefe(V):\n",
    "    if V < 0:\n",
    "        return 0\n",
    "    else:\n",
    "        return ((V*3*h0**2)/(pi*r0**2))**(1/3)"
   ]
  },
  {
   "cell_type": "code",
   "execution_count": 7,
   "metadata": {
    "deletable": false,
    "editable": false,
    "tags": []
   },
   "outputs": [],
   "source": [
    "# Hier sind einige Plausibilitäts-Tests:\n",
    "assert abs(h0-tiefe(215e6)) < 1e-5\n",
    "assert abs(50-tiefe(1e8)) < 0.1"
   ]
  },
  {
   "cell_type": "markdown",
   "metadata": {},
   "source": [
    "**2.2) Schreiben Sie eine Funktion, die den diskreten Zeitverlauf der Wassertiefe $h(t)$ bis zur Leerung des Sees zurückgibt.**\n",
    "\n",
    "  * Die Funktion soll ein Startvolumen $V_0$ und eine Zeitschrittweite $\\Delta t$ übergeben bekommen.\n",
    "  * Verwenden Sie in den Berechnungen standardmäßig [SI-Einheiten](https://de.wikipedia.org/wiki/Internationales_Einheitensystem).\n",
    "  * Beachten Sie, dass sich auch der Volumenstrom zeitlich ändert.\n",
    "  * Die Funktion soll alle berechneten Zeiten und die jeweils zugehörigen Tiefen in zwei getrennten Listen zurückgeben.\n",
    "  \n",
    "Hinweis: Die Änderung des Volumens lässt sich annähernd über $V_{n+1}=V_n-\\dot{V_n} \\cdot \\Delta t$ beschreiben."
   ]
  },
  {
   "cell_type": "code",
   "execution_count": 8,
   "metadata": {},
   "outputs": [],
   "source": [
    "def abfluss(V0, dt):\n",
    "    t_n = 0     # Initialisierung der Variablen die im Loop verwendet werden\n",
    "    V_n = V0\n",
    "    tiefe_berechnet = tiefe(V_n)\n",
    "    \n",
    "    werteTiefe = []   # Diese Listen werden am Ende die Werte für das Volumen und die Zeit enthalten\n",
    "    werteZeit = []\n",
    "    \n",
    "    while tiefe_berechnet > 0:      # Solange der See nicht leer ist\n",
    "        werteTiefe.append(tiefe_berechnet)\n",
    "        werteZeit.append(t_n)\n",
    "        t_n += dt\n",
    "        u = sqrt(2 * 9.81 * tiefe_berechnet)\n",
    "        v_dot = 2 * u\n",
    "        V_n = V_n - v_dot * dt\n",
    "        tiefe_berechnet = tiefe(V_n)\n",
    "\n",
    "    return werteTiefe, werteZeit\n",
    "\n",
    "# abflussV2 erlaubt das einsetzen einer beliebigen Funktion für die Tiefe, sodass es möglich ist, mit wenig Code einen See mit einer neuen Form zu berechnen\n",
    "def abflussV2(V0, dt, tiefenFunktion = tiefe):  # Standard: Kegelförmig (tiefe)\n",
    "    t_n = 0\n",
    "    V_n = V0\n",
    "    tiefe_berechnet = tiefenFunktion(V_n)   # Übergebene Funktion zur Berechnung der Tiefe wird verwendet => ermöglicht Funktion für zylinderförmigen See\n",
    "    \n",
    "    werteTiefe = []\n",
    "    werteZeit = []\n",
    "    \n",
    "    while tiefe_berechnet > 0:\n",
    "        werteTiefe.append(tiefe_berechnet)\n",
    "        werteZeit.append(t_n)\n",
    "        t_n += dt\n",
    "        u = sqrt(2 * 9.81 * tiefe_berechnet)\n",
    "        v_dot = 2 * u\n",
    "        V_n = V_n - v_dot * dt\n",
    "        tiefe_berechnet = tiefenFunktion(V_n)   # Übergebene Funktion zur Berechnung der Tiefe wird verwendet => ermöglicht Funktion für zylinderförmigen See\n",
    "\n",
    "    return werteTiefe, werteZeit\n"
   ]
  },
  {
   "cell_type": "code",
   "execution_count": 9,
   "metadata": {
    "deletable": false,
    "editable": false,
    "tags": []
   },
   "outputs": [],
   "source": [
    "# Hier sind einige Plausibilitäts-Tests:\n",
    "assert len(abfluss(10,1))==2\n",
    "assert type(abfluss(10,1)[0])==type(abfluss(10,1)[1])==list\n",
    "\n",
    "# V2 (mit flexibler Funktion für die Tiefe)\n",
    "assert len(abflussV2(10,1))==2\n",
    "assert type(abflussV2(10,1)[0])==type(abflussV2(10,1)[1])==list"
   ]
  },
  {
   "cell_type": "markdown",
   "metadata": {},
   "source": [
    "**2.3) Wie lange dauert es, bis der Stausee komplett abgelassen wurde?** \n",
    "\n",
    "Plotten Sie den Zeitverlauf der Wassertiefe bis zur Leerung für zwei Zeitschrittweiten:\n",
    "  * $\\Delta t_1$ = 1 Minute\n",
    "  * $\\Delta t_2$ = 4 Tage\n",
    "\n",
    "**Diskutieren Sie Auffälligkeiten.**"
   ]
  },
  {
   "cell_type": "code",
   "execution_count": 10,
   "metadata": {},
   "outputs": [
    {
     "data": {
      "image/png": "[encoded data removed]",
      "text/plain": [
       "<Figure size 432x288 with 1 Axes>"
      ]
     },
     "metadata": {
      "needs_background": "light"
     },
     "output_type": "display_data"
    }
   ],
   "source": [
    "%matplotlib inline\n",
    "from matplotlib.pyplot import plot, show\n",
    "# Plotbefehl: plot(x_werte_liste, y_werte_liste)\n",
    "# Hier eigenen Code schreiben ...\n",
    "result1 = abflussV2(V, 60)\n",
    "result2 = abflussV2(V, 345600)\n",
    "plot(result1[1], result1[0])\n",
    "plot(result2[1], result2[0], marker = \"o\")\n",
    "show()"
   ]
  },
  {
   "cell_type": "markdown",
   "metadata": {},
   "source": [
    "Es ist zu erkennen, dass die beiden Plots sehr ähnlich sind. Sie beginnen beide beim gleichen Wert und in beiden Fällen ist der See nach etwas über $\\frac{3.5\\times 10^6s}{60\\times 60\\times 24}=40.5$ Tagen leer. Im weiteren Verlauf unterscheiden sie sich vor allem in der unterschiedlichen Anzahl der Datenpunkte, da für den zweiten Plot größere Zeitintervalle $\\Delta t$ zur Berechnung verwendet wurden.\\\n",
    "Der Verlauf des Graphen ist wie zu erwarten - einerseits ist die Tiefe $z$ vom Volumen $V$ abhängig ($z\\propto\\sqrt[3]{V}$), andererseits erschließt sich auch logisch, dass sich die Tiefe eines kegelförmigen Sees zu Beginn langsam und später schnell verringert, da die Spitze eines Kegels wesentlich weniger Volumen fasst.\\\n",
    "Auffällig ist, dass die Tiefe im zweiten Plot erst später 0 erreicht, also der See erst später leer ist. Dies ist ebenfalls dem größeren Abstand der Datenpunkte geschuldet: Eigentlich ist der See schon früher leer. Durch die großen zeitlichen Schritte wird jedoch beim Entleeren des Sees über das Ziel \"hinausgeschossen\", d.h. das Volumen erreicht einen negativen Wert. Dieser negative Wert wird in `tiefe()` jedoch auf 0 gesetzt, da ein negativer Füllstand des Sees realitätsfern ist."
   ]
  },
  {
   "cell_type": "markdown",
   "metadata": {},
   "source": [
    "### 3) Anderer See\n",
    "\n",
    "Wiederholen Sie Aufgabenteil 2.3) unter der Annahme, dass der See bei gleichem Volumen und gleicher Oberfläche annähernd durch einen *Zylinder* beschrieben wird. Schreiben Sie hierfür möglichst wenig neuen Code."
   ]
  },
  {
   "cell_type": "code",
   "execution_count": 11,
   "metadata": {},
   "outputs": [
    {
     "data": {
      "image/png": "[encoded data removed]",
      "text/plain": [
       "<Figure size 432x288 with 1 Axes>"
      ]
     },
     "metadata": {
      "needs_background": "light"
     },
     "output_type": "display_data"
    }
   ],
   "source": [
    "# Hier eigenen Code schreiben ...\n",
    "def tiefeZyl(V):    # Neue Funktion für die Berechnung der Tiefe, sonst bleibt alles gleich\n",
    "    if V < 0:\n",
    "        return 0\n",
    "    else:\n",
    "        h = V/(pi*r0**2)\n",
    "        return h\n",
    "\n",
    "result1 = abflussV2(V, 60, tiefeZyl)\n",
    "result2 = abflussV2(V, 345600, tiefeZyl)\n",
    "plot(result1[1], result1[0])\n",
    "plot(result2[1], result2[0], marker = \"o\")\n",
    "show()"
   ]
  },
  {
   "cell_type": "markdown",
   "metadata": {},
   "source": [
    "In diesem Fall ist die Tiefe proportional zum Volumen ($z\\propto V$). Die Tiefe nimmt zum Schluss langsamer ab, da sich der Volumenstrom mit abnehmender Tiefe ebenfalls verringert und sich der See so langsamer entleert.\\\n",
    "Was hier heraussticht, ist, dass der See im Falle von einem größeren $\\Delta t$ offenbar früher leer ist. Die gesamte Dauer des Entleeren ist so groß, dass der Effekt von *2.3* nicht zur Erklärung ausreicht. Stattdessen macht sich hier die zugrundeliegende Formel bemerkbar: Mit $V_{n+1}=V_n-\\dot{V_n} \\cdot \\Delta t$ ist das Volumen zum Zeitpunkt $n+1$ sowohl über das Volumen $V_n$ als auch über den Volumenstrom $\\dot{V}_n$ vom Zeitpunkt $n$ der Iteration zuvor definiert. Problematisch ist dabei, dass der Volumenstrom zum Zeitpunkt $n$ für den gesamten Zeitraum bis $n+1$ verwendet wird und somit aufgrund des höheren Volumens und der größeren Tiefe ein größerer Volumenfluss in die Formel eingeht, als eigentlich vorhanden. Tatsächlich müsste der Volumenstrom realistisch auch in der Zwischenzeit abnehmen. Durch die zahlreichen Iterationen kumuliert sich der Effekt so stark, dass er im Plot deutlich sichtbar wird.\\\n",
    "Es zeigt sich hier, dass ein kleineres $\\Delta t$ einen großen Einfluss auf die Qualität der Berechnungen hat."
   ]
  }
 ],
 "metadata": {
  "interpreter": {
   "hash": "11938c6bc6919ae2720b4d5011047913343b08a43b18698fd82dedb0d4417594"
  },
  "kernelspec": {
   "display_name": "Python 3.9.5 64-bit",
   "language": "python",
   "name": "python3"
  },
  "language_info": {
   "codemirror_mode": {
    "name": "ipython",
    "version": 3
   },
   "file_extension": ".py",
   "mimetype": "text/x-python",
   "name": "python",
   "nbconvert_exporter": "python",
   "pygments_lexer": "ipython3",
   "version": "3.9.5"
  }
 },
 "nbformat": 4,
 "nbformat_minor": 4
}
