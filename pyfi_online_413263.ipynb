{
 "cells": [
  {
   "cell_type": "markdown",
   "id": "f652f5d9",
   "metadata": {
    "deletable": false,
    "editable": false,
    "nbgrader": {
     "cell_type": "markdown",
     "checksum": "917c058914ba36a74514c8971b039134",
     "grade": false,
     "grade_id": "cell-00header",
     "locked": true,
     "schema_version": 3,
     "solution": false,
     "task": false
    },
    "signature": "64e4f"
   },
   "source": [
    "# Python für Ingenieure\n",
    "## Notebook zur Programmier-Abschlussarbeit\n",
    "<!-- 413263, Prüfungszeitraum 2022: 3 -->\n",
    "\n",
    "---\n",
    "\n",
    "**Bitte den folgenden Abschnitt genau durchlesen:**\n",
    "\n",
    "Dieses Jupyter-Notebook-Dokument ist als Teilleistung für die Portfolio-Prüfung zum \n",
    "Kurs \"Python für Ingenieure\" zu bearbeiten.\n",
    "\n",
    "  * Lösen Sie die Aufgaben, indem Sie Zellen mit dem Hinweis \"`# Hier eigenen Code schreiben ...`\" direkt im Dokument ergänzen.\n",
    "  * Nutzen Sie **Jupyter Notebook oder JupyterLab** zur Bearbeitung, um sicherzustellen, dass alle Inhalte korrekt angezeigt werden.\n",
    "  * Beachten Sie, dass Sie nicht alle Zellen editieren können (einige enthalten z.B. Plausibilitätstests).\n",
    "  * Fügen Sie keine weiteren Zellen hinzu. Arbeiten Sie ausschließlich in den dafür vorgesehenen Zellen.\n",
    "  * Importieren Sie keine Module abseits von Standard-Modulen, wenn Sie nicht dazu aufgefordert werden.\n",
    "  * Kommentare mit Erläuterungen oder auskommentierter Programmcode werden nicht bewertet.\n",
    "  * Schließen Sie die Arbeiten rechtzeitig vor der Abgabefrist ab und laden Sie **nur** das bearbeitete und **nicht umbenannte** Notebook (`pyfi_online_413263.ipynb`) in der entsprechenden Abgabe im ISIS-Kurs hoch.\n",
    "  * Sollten Sie Probleme beim Upload auf die Kursseite haben, senden Sie Ihr Notebook per E-Mail an [py@akustik.tu-berlin.de](mailto:py@akustik.tu-berlin.de) mit dem Betreff \"Python-Prüfung 413263 [Ihr Name]\"\n",
    "\n",
    "Während der Programmierung in diesem Dokument ist es erlaubt, sämtliche Aufzeichnungen, \n",
    "Skripte sowie das Internet zur Recherche zu verwenden.\n",
    "Ein Austausch über die Prüfungsinhalte mit anderen Personen ist jedoch **nicht** erlaubt.\n",
    "Insbesondere das Teilen dieses Dokuments – auch auszugsweise – mit Dritten ist nicht gestattet und kann als Betrugsversuch gewertet werden.\n",
    "\n",
    "**Mit dem Upload des bearbeiteten Dokumentes unter Ihrer Matrikelnummer (über Ihren ISIS-Account oder per E-Mail) erklären Sie, dass Sie alle Aufgaben selbstständig bearbeitet haben sowie die Inhalte nicht anderweitig geteilt haben.**\n",
    "\n",
    "---"
   ]
  },
  {
   "cell_type": "markdown",
   "id": "f652f5da",
   "metadata": {
    "deletable": false,
    "editable": false,
    "nbgrader": {
     "cell_type": "markdown",
     "checksum": "fef1ae74dfcbfbd539705eeae7512331",
     "grade": false,
     "grade_id": "cell-a01v01c01",
     "locked": true,
     "schema_version": 3,
     "solution": false,
     "task": false
    },
    "signature": "64e4f"
   },
   "source": [
    "### 1. Wer bin ich und wenn ja, was mache ich hier?\n",
    "\n",
    "#### 1.1. Deklaration von Variablen (2 Punkte)\n",
    "\n",
    "Erstellen Sie folgende drei Variablen:\n",
    "\n",
    "```python\n",
    "matrikelnummer\n",
    "name\n",
    "studiengang\n",
    "``` \n",
    "\n",
    "Den Variablen sollen entsprechend der Bezeichnung folgende Werte zugewiesen werden:\n",
    "\n",
    "   * Ihre Matrikelnummer als Integerwert\n",
    "   * Ihre Vor- und Nachnamen als Zeichenkette\n",
    "   * Ihren Studiengang als Zeichenkette\n",
    "\n",
    "Die Zeichenketten dürfen Leerzeichen enthalten. \n",
    "Es kommt bei den Zeichenketten nicht auf exakte Wiedergabe an, jedoch sollten Sie und Ihr Studiengang identifizierbar sein."
   ]
  },
  {
   "cell_type": "code",
   "execution_count": 160,
   "id": "f652f5db",
   "metadata": {
    "deletable": false,
    "nbgrader": {
     "cell_type": "code",
     "checksum": "aada870a441c02b0dc3c9f16eed9cad2",
     "grade": false,
     "grade_id": "cell-a01v01c02",
     "locked": false,
     "schema_version": 3,
     "solution": true,
     "task": false
    },
    "signature": "64e4f"
   },
   "outputs": [],
   "source": [
    "# Hier eigenen Code schreiben ...\n",
    "matrikelnummer = 413263\n",
    "name = \"Julius Dominik Gölz\"\n",
    "studiengang = \"B. Sc. Verkehrswesen\""
   ]
  },
  {
   "cell_type": "code",
   "execution_count": 161,
   "id": "f652f5dc",
   "metadata": {
    "deletable": false,
    "editable": false,
    "nbgrader": {
     "cell_type": "code",
     "checksum": "a629a114eac374c944549106a356c5ff",
     "grade": true,
     "grade_id": "cell-a01v01c03",
     "locked": true,
     "points": 1,
     "schema_version": 3,
     "solution": false,
     "task": false
    },
    "signature": "64e4f"
   },
   "outputs": [],
   "source": [
    "# Hier ist ein Plausibilitäts-Test:\n",
    "assert (matrikelnummer*3)//10000 == 123"
   ]
  },
  {
   "cell_type": "code",
   "execution_count": 162,
   "id": "f652f5dd",
   "metadata": {
    "deletable": false,
    "editable": false,
    "nbgrader": {
     "cell_type": "code",
     "checksum": "13bec05b95d641cca339a3bb46609aa1",
     "grade": true,
     "grade_id": "cell-a01v01c04",
     "locked": true,
     "points": 1,
     "schema_version": 3,
     "solution": false,
     "task": false
    },
    "signature": "64e4f"
   },
   "outputs": [],
   "source": [
    "# Hier ist ein Plausibilitäts-Test:\n",
    "assert type(name) == type(studiengang)"
   ]
  },
  {
   "cell_type": "markdown",
   "id": "f652f5de",
   "metadata": {
    "deletable": false,
    "editable": false,
    "nbgrader": {
     "cell_type": "markdown",
     "checksum": "f7fe6f4e0524c5cc0b998cb19359209e",
     "grade": false,
     "grade_id": "cell-a01v01c05",
     "locked": true,
     "schema_version": 3,
     "solution": false,
     "task": false
    },
    "signature": "64e4f"
   },
   "source": [
    "#### 1.2. Sequenzen verarbeiten (3 Punkte)\n",
    "\n",
    "  * Bestimmen Sie die Anzahl der Zeichen in `studiengang` (inkl. Leerzeichen, falls vorhanden) und weisen Sie den Wert der Variable `laenge_studium` zu.\n",
    "  * Erstellen Sie eine neue Zeichenkette `viele_namen`, die die Zeichenkette `name` 104 Mal hintereinander enthält. \n",
    "  * Berechnen Sie den Quotienten zwischen  `matrikelnummer` und `laenge_studium` und vermerken Sie das Ergebnis als Fließkommazahl unter `quotient`.\n",
    "  "
   ]
  },
  {
   "cell_type": "code",
   "execution_count": 163,
   "id": "f652f5df",
   "metadata": {
    "deletable": false,
    "nbgrader": {
     "cell_type": "code",
     "checksum": "4ea6d17e7d57fb17c7b8220772792110",
     "grade": false,
     "grade_id": "cell-a01v01c06",
     "locked": false,
     "schema_version": 3,
     "solution": true,
     "task": false
    },
    "signature": "64e4f"
   },
   "outputs": [],
   "source": [
    "# Hier eigenen Code schreiben ...\n",
    "laenge_studium = len(studiengang)\n",
    "viele_namen = name*104\n",
    "quotient = matrikelnummer/laenge_studium"
   ]
  },
  {
   "cell_type": "code",
   "execution_count": 164,
   "id": "f652f5e0",
   "metadata": {
    "deletable": false,
    "editable": false,
    "nbgrader": {
     "cell_type": "code",
     "checksum": "4facf78ddb126d268417b5ad5ee19b60",
     "grade": true,
     "grade_id": "cell-a01v01c07",
     "locked": true,
     "points": 1,
     "schema_version": 3,
     "solution": false,
     "task": false
    },
    "signature": "64e4f"
   },
   "outputs": [],
   "source": [
    "# Hier ist ein Plausibilitäts-Test:\n",
    "assert laenge_studium"
   ]
  },
  {
   "cell_type": "code",
   "execution_count": 165,
   "id": "f652f5e1",
   "metadata": {
    "deletable": false,
    "editable": false,
    "nbgrader": {
     "cell_type": "code",
     "checksum": "11e0cb00e652b94e08ecd09045a3a4e6",
     "grade": true,
     "grade_id": "cell-a01v01c08",
     "locked": true,
     "points": 1,
     "schema_version": 3,
     "solution": false,
     "task": false
    },
    "signature": "64e4f"
   },
   "outputs": [],
   "source": [
    "# Hier sind einige Plausibilitäts-Tests:\n",
    "assert name in viele_namen\n",
    "assert viele_namen[0]==name[0]"
   ]
  },
  {
   "cell_type": "code",
   "execution_count": 166,
   "id": "f652f5e2",
   "metadata": {
    "deletable": false,
    "editable": false,
    "nbgrader": {
     "cell_type": "code",
     "checksum": "a2028d40eb323e391b8d4608ad8f1ab8",
     "grade": true,
     "grade_id": "cell-a01v01c09",
     "locked": true,
     "points": 1,
     "schema_version": 3,
     "solution": false,
     "task": false
    },
    "signature": "64e4f"
   },
   "outputs": [],
   "source": [
    "# Hier ist ein Plausibilitäts-Test:\n",
    "assert quotient<matrikelnummer"
   ]
  },
  {
   "cell_type": "markdown",
   "id": "f652f5e3",
   "metadata": {
    "deletable": false,
    "editable": false,
    "nbgrader": {
     "cell_type": "markdown",
     "checksum": "daa4378946297bdbb8fb929e62e5d2af",
     "grade": false,
     "grade_id": "cell-a02v01c01",
     "locked": true,
     "schema_version": 3,
     "solution": false,
     "task": false
    },
    "signature": "64e4f"
   },
   "source": [
    "### 2. Array mit Zufallszahlen"
   ]
  },
  {
   "cell_type": "code",
   "execution_count": 167,
   "id": "f652f5e4",
   "metadata": {
    "deletable": false,
    "editable": false,
    "nbgrader": {
     "cell_type": "code",
     "checksum": "7689d27ac30178bf140f84779df0b27f",
     "grade": false,
     "grade_id": "cell-a02v01c02",
     "locked": true,
     "schema_version": 3,
     "solution": false,
     "task": false
    },
    "signature": "64e4f"
   },
   "outputs": [],
   "source": [
    "import numpy as np\n",
    "np.random.seed(54)"
   ]
  },
  {
   "cell_type": "markdown",
   "id": "f652f5e5",
   "metadata": {
    "deletable": false,
    "editable": false,
    "nbgrader": {
     "cell_type": "markdown",
     "checksum": "cc460d957e896ac3ac7b7994d49cd4eb",
     "grade": false,
     "grade_id": "cell-a02v01c03",
     "locked": true,
     "schema_version": 3,
     "solution": false,
     "task": false
    },
    "signature": "64e4f"
   },
   "source": [
    "#### 2.1. Erzeugung (2 Punkte)\n",
    "Erstellen Sie ein NumPy-Array `a` mit 4 Zeilen und 10 Spalten, das Zufallszahlen aus einer Normalverteilung (Mittelwert: 0; Standardabweichung: 3.0) enthält."
   ]
  },
  {
   "cell_type": "code",
   "execution_count": 168,
   "id": "f652f5e6",
   "metadata": {
    "deletable": false,
    "nbgrader": {
     "cell_type": "code",
     "checksum": "16a94f6b628f4f1fead4a979dfc4ecdc",
     "grade": false,
     "grade_id": "cell-a02v01c04",
     "locked": false,
     "schema_version": 3,
     "solution": true,
     "task": false
    },
    "signature": "64e4f"
   },
   "outputs": [],
   "source": [
    "a = None\n",
    "# Hier eigenen Code schreiben ...\n",
    "\n",
    "mittelwert = 0\n",
    "standardabw = 3.\n",
    "a = np.random.normal(loc=mittelwert,\n",
    "                     scale=standardabw,\n",
    "                     size=(4, 10))\n",
    "\n",
    "#### Gerne lesen! ####\n",
    "# https://towardsdatascience.com/stop-using-numpy-random-seed-581a9972805f\n",
    "\n",
    "# Das hier wäre die nicht-Legacy-Variante:\n",
    "\n",
    "# rng = np.random.default_rng(seed=54)\n",
    "# a = rng.normal(loc=mittelwert,\n",
    "#                scale=standardabw,\n",
    "#                size=(4, 10))\n",
    "\n",
    "# Das ist auch insofern ungünstig als dass, wenn man nur diese Zelle hier ausführt,\n",
    "#  sich das Ergebnis ständig ändert, weil nicht jedes Mal die Zelle darüber mit dem\n",
    "#  Seed ausgeführt wird. Die Verwendung der nicht veralteten Variante hätte mir\n",
    "#  einiges an Rätselei und Zeit erspart. :)\n",
    "\n",
    "# Übrigens produziert die neue Variante zumindest mit diesem Seed die wesentlich\n",
    "#  besseren Ergebnisse hinsichtlich tatsächlichem Mittelwert und Standardabweichung.\n"
   ]
  },
  {
   "cell_type": "code",
   "execution_count": 169,
   "id": "f652f5e7",
   "metadata": {
    "deletable": false,
    "editable": false,
    "nbgrader": {
     "cell_type": "code",
     "checksum": "cf0e205986c6112d68c93b287452d276",
     "grade": true,
     "grade_id": "cell-a02v01c05",
     "locked": true,
     "points": 2,
     "schema_version": 3,
     "solution": false,
     "task": false
    },
    "signature": "64e4f"
   },
   "outputs": [
    {
     "name": "stdout",
     "output_type": "stream",
     "text": [
      "[[-5.56 -3.24  0.24 -4.06  1.88  2.2  -4.41 -5.03  1.75 -2.03]\n",
      " [ 2.03  0.56 -3.47 -2.46 -2.71 -1.59 -1.12 -1.08 -2.34  7.53]\n",
      " [-4.69 -0.7  -0.28  3.47  1.87 -2.68 -0.37  4.02 -1.22 -4.9 ]\n",
      " [-0.41 -4.38 -1.79 -1.42 -1.62 -1.35  0.44  1.6   1.83  1.11]]\n"
     ]
    }
   ],
   "source": [
    "# Hier sind einige Plausibilitäts-Tests:\n",
    "assert a is not None\n",
    "assert type(a) == np.ndarray\n",
    "print(np.around(a,2))"
   ]
  },
  {
   "cell_type": "markdown",
   "id": "f652f5e8",
   "metadata": {
    "deletable": false,
    "editable": false,
    "nbgrader": {
     "cell_type": "markdown",
     "checksum": "2f27bb9742370c0d40fbe2a8c01fb6a0",
     "grade": false,
     "grade_id": "cell-a02v01c06",
     "locked": true,
     "schema_version": 3,
     "solution": false,
     "task": false
    },
    "signature": "64e4f"
   },
   "source": [
    "#### 2.2. Indizierung von vorn (2 Punkte)\n",
    "\n",
    "Holen Sie die ersten 2 Werte aus den ersten 2 Zeilen des Arrays `a` und speichern Sie das Ergebnis im Array `a_linksoben` (mit entsprechend 2 Spalten und 2 Zeilen)."
   ]
  },
  {
   "cell_type": "code",
   "execution_count": 170,
   "id": "f652f5e9",
   "metadata": {
    "deletable": false,
    "nbgrader": {
     "cell_type": "code",
     "checksum": "a7a7c69b3bc50a1259d8574040512f33",
     "grade": false,
     "grade_id": "cell-a02v01c07",
     "locked": false,
     "schema_version": 3,
     "solution": true,
     "task": false
    },
    "signature": "64e4f"
   },
   "outputs": [
    {
     "name": "stdout",
     "output_type": "stream",
     "text": [
      "[[-5.55663223 -3.24299697]\n",
      " [ 2.03266557  0.55658834]]\n"
     ]
    }
   ],
   "source": [
    "a_linksoben = None\n",
    "# Hier eigenen Code schreiben ...\n",
    "a_linksoben = a[0:2, 0:2]\n",
    "print(a_linksoben)"
   ]
  },
  {
   "cell_type": "code",
   "execution_count": 171,
   "id": "f652f5ea",
   "metadata": {
    "deletable": false,
    "editable": false,
    "nbgrader": {
     "cell_type": "code",
     "checksum": "c163bbcf2775ce3a4346667aff0a35a9",
     "grade": true,
     "grade_id": "cell-a02v01c08",
     "locked": true,
     "points": 2,
     "schema_version": 3,
     "solution": false,
     "task": false
    },
    "signature": "64e4f"
   },
   "outputs": [],
   "source": [
    "# Hier sind einige Plausibilitäts-Tests:\n",
    "assert a_linksoben is not None\n",
    "assert type(a_linksoben) == np.ndarray\n",
    "assert a_linksoben.shape[0] <= a.shape[0]"
   ]
  },
  {
   "cell_type": "markdown",
   "id": "f652f5eb",
   "metadata": {
    "deletable": false,
    "editable": false,
    "nbgrader": {
     "cell_type": "markdown",
     "checksum": "d2227cfaf77f3409f9564b46558b1bc2",
     "grade": false,
     "grade_id": "cell-a02v01c09",
     "locked": true,
     "schema_version": 3,
     "solution": false,
     "task": false
    },
    "signature": "64e4f"
   },
   "source": [
    "#### 2.3. Indizierung von hinten (2 Punkte)\n",
    "\n",
    "Holen Sie die _letzten_ 2 Werte aus den _letzten_ 2 Zeilen des Arrays `a` und speichern Sie das Ergebnis im Array `a_rechtsunten` (mit entsprechend 2 Zeilen und 2 Spalten)."
   ]
  },
  {
   "cell_type": "code",
   "execution_count": 172,
   "id": "f652f5ec",
   "metadata": {
    "deletable": false,
    "nbgrader": {
     "cell_type": "code",
     "checksum": "033037614ababded2fe82109ea421e3c",
     "grade": false,
     "grade_id": "cell-a02v01c10",
     "locked": false,
     "schema_version": 3,
     "solution": true,
     "task": false
    },
    "signature": "64e4f"
   },
   "outputs": [
    {
     "name": "stdout",
     "output_type": "stream",
     "text": [
      "[[-1.21820777 -4.90134692]\n",
      " [ 1.82928668  1.11279726]]\n"
     ]
    }
   ],
   "source": [
    "a_rechtsunten = None\n",
    "# Hier eigenen Code schreiben ...\n",
    "a_rechtsunten = a[-2:, -2:]\n",
    "print(a_rechtsunten)"
   ]
  },
  {
   "cell_type": "code",
   "execution_count": 173,
   "id": "f652f5ed",
   "metadata": {
    "deletable": false,
    "editable": false,
    "nbgrader": {
     "cell_type": "code",
     "checksum": "dba583e895a6e1d8bd65a64fe36382cc",
     "grade": true,
     "grade_id": "cell-a02v01c11",
     "locked": true,
     "points": 2,
     "schema_version": 3,
     "solution": false,
     "task": false
    },
    "signature": "64e4f"
   },
   "outputs": [],
   "source": [
    "# Hier sind einige Plausibilitäts-Tests:\n",
    "assert a_rechtsunten is not None\n",
    "assert type(a_rechtsunten) == np.ndarray\n",
    "assert a_rechtsunten.shape[0] <= a.shape[0]"
   ]
  },
  {
   "cell_type": "markdown",
   "id": "f652f5ee",
   "metadata": {
    "deletable": false,
    "editable": false,
    "nbgrader": {
     "cell_type": "markdown",
     "checksum": "0e6f49972b20779d1d98f2a11ec55414",
     "grade": false,
     "grade_id": "cell-a02v01c12",
     "locked": true,
     "schema_version": 3,
     "solution": false,
     "task": false
    },
    "signature": "64e4f"
   },
   "source": [
    "#### 2.4. Mittelwert (1 Punkt)\n",
    "\n",
    "Berechnen Sie den _tatsächlichen_ Mittelwert der Einträge des Arrays `a` und speichern Sie das Ergebnis in der Variable `a_mw`."
   ]
  },
  {
   "cell_type": "code",
   "execution_count": 174,
   "id": "f652f5ef",
   "metadata": {
    "deletable": false,
    "nbgrader": {
     "cell_type": "code",
     "checksum": "a885b1427853fa6477d5239bbb400197",
     "grade": false,
     "grade_id": "cell-a02v01c13",
     "locked": false,
     "schema_version": 3,
     "solution": true,
     "task": false
    },
    "signature": "64e4f"
   },
   "outputs": [
    {
     "name": "stdout",
     "output_type": "stream",
     "text": [
      "-0.8602569738106848\n"
     ]
    }
   ],
   "source": [
    "a_mw = None\n",
    "# Hier eigenen Code schreiben ...\n",
    "a_mw = np.mean(a)\n",
    "print(a_mw)"
   ]
  },
  {
   "cell_type": "code",
   "execution_count": 175,
   "id": "f652f5f0",
   "metadata": {
    "deletable": false,
    "editable": false,
    "nbgrader": {
     "cell_type": "code",
     "checksum": "eb5faf786bc147c4579313ed4fd33f45",
     "grade": true,
     "grade_id": "cell-a02v01c14",
     "locked": true,
     "points": 1,
     "schema_version": 3,
     "solution": false,
     "task": false
    },
    "signature": "64e4f"
   },
   "outputs": [],
   "source": [
    "# Hier sind einige Plausibilitäts-Tests:\n",
    "assert a_mw is not None\n",
    "assert a_mw != 0"
   ]
  },
  {
   "cell_type": "markdown",
   "id": "f652f5f1",
   "metadata": {
    "deletable": false,
    "editable": false,
    "nbgrader": {
     "cell_type": "markdown",
     "checksum": "d4a4f3823d8c4bf900bffc0010d03269",
     "grade": false,
     "grade_id": "cell-a02v01c15",
     "locked": true,
     "schema_version": 3,
     "solution": false,
     "task": false
    },
    "signature": "64e4f"
   },
   "source": [
    "#### 2.5. Standardabweichung (1 Punkt)\n",
    "\n",
    "Berechnen Sie die _tatsächliche_ Standardabweichung der Einträge des Arrays `a` und speichern Sie das Ergebnis in der Variable `a_stab`."
   ]
  },
  {
   "cell_type": "code",
   "execution_count": 176,
   "id": "f652f5f2",
   "metadata": {
    "deletable": false,
    "nbgrader": {
     "cell_type": "code",
     "checksum": "098c7d0f718deeff8cdbbc95e19c1c65",
     "grade": false,
     "grade_id": "cell-a02v01c16",
     "locked": false,
     "schema_version": 3,
     "solution": true,
     "task": false
    },
    "signature": "64e4f"
   },
   "outputs": [
    {
     "name": "stdout",
     "output_type": "stream",
     "text": [
      "2.7798999922845304\n"
     ]
    }
   ],
   "source": [
    "a_stab = None\n",
    "# Hier eigenen Code schreiben ...\n",
    "a_stab = np.std(a)\n",
    "print(a_stab)"
   ]
  },
  {
   "cell_type": "code",
   "execution_count": 177,
   "id": "f652f5f3",
   "metadata": {
    "deletable": false,
    "editable": false,
    "nbgrader": {
     "cell_type": "code",
     "checksum": "e7c49545916a5ce20ed310f9bbe54f62",
     "grade": true,
     "grade_id": "cell-a02v01c17",
     "locked": true,
     "points": 1,
     "schema_version": 3,
     "solution": false,
     "task": false
    },
    "signature": "64e4f"
   },
   "outputs": [],
   "source": [
    "# Hier sind einige Plausibilitäts-Tests:\n",
    "assert a_stab is not None\n",
    "assert a_stab != 0"
   ]
  },
  {
   "cell_type": "markdown",
   "id": "f652f5f4",
   "metadata": {
    "deletable": false,
    "editable": false,
    "nbgrader": {
     "cell_type": "markdown",
     "checksum": "d5c9a1bf6bbfd2500a4740077cb287fc",
     "grade": false,
     "grade_id": "cell-a02v01c18",
     "locked": true,
     "schema_version": 3,
     "solution": false,
     "task": false
    },
    "signature": "64e4f"
   },
   "source": [
    "#### 2.6. Werteverschiebung (2 Punkte)\n",
    "\n",
    "Ändern Sie die Einträge im Array `a` so ab, dass die relative Verteilung der Werte (=Standardabweichung) genau gleich bleibt, der Mittelwert jedoch tatsächlich bei 0 liegt (mindestens bis zur 4. Nachkommastelle)."
   ]
  },
  {
   "cell_type": "code",
   "execution_count": 178,
   "id": "f652f5f5",
   "metadata": {
    "deletable": false,
    "nbgrader": {
     "cell_type": "code",
     "checksum": "f50902374cfdd26d2bdaf226d5087183",
     "grade": false,
     "grade_id": "cell-a02v01c19",
     "locked": false,
     "schema_version": 3,
     "solution": true,
     "task": false
    },
    "signature": "64e4f"
   },
   "outputs": [
    {
     "name": "stdout",
     "output_type": "stream",
     "text": [
      "Mittelwert:\t\t0.00000000000000011102 \n",
      "Standardabweichung:\t2.77989999228453044111\n"
     ]
    }
   ],
   "source": [
    "# Hier eigenen Code schreiben ...\n",
    "a = a-a_mw\n",
    "a_mw_neu = np.mean(a)\n",
    "a_stab_neu = np.std(a)\n",
    "print(f\"Mittelwert:\\t\\t{a_mw_neu:.20f}\",\n",
    "      f\"\\nStandardabweichung:\\t{a_stab_neu:.20f}\")"
   ]
  },
  {
   "cell_type": "code",
   "execution_count": 179,
   "id": "f652f5f6",
   "metadata": {
    "deletable": false,
    "editable": false,
    "nbgrader": {
     "cell_type": "code",
     "checksum": "c0558dd024cd831f19cae837da30191b",
     "grade": true,
     "grade_id": "cell-a02v01c20",
     "locked": true,
     "points": 2,
     "schema_version": 3,
     "solution": false,
     "task": false
    },
    "signature": "64e4f"
   },
   "outputs": [],
   "source": [
    "# Hier ist ein Plausibilitäts-Test:\n",
    "assert a is not None"
   ]
  },
  {
   "cell_type": "markdown",
   "id": "f652f5f7",
   "metadata": {
    "deletable": false,
    "editable": false,
    "nbgrader": {
     "cell_type": "markdown",
     "checksum": "3fc5761a66d638e6ba88fae08f0a34cd",
     "grade": false,
     "grade_id": "cell-a03v01c01",
     "locked": true,
     "schema_version": 3,
     "solution": false,
     "task": false
    },
    "signature": "64e4f"
   },
   "source": [
    "### 3. Funktion auf Zahlenreihe\n",
    "\n",
    "  * Schreiben Sie eine Funktion namens `addsub`. (_3 Punkte_)\n",
    "  * Sie soll als Parameter ein 1D-Array und ein Skalar übergeben bekommen.\n",
    "  * Die Einträge des Arrays werden jeweils mit dem Skalar potenziert und alternierend addiert bzw. subtrahiert. (_3 Punkte_)\n",
    "  * Die Rechnung lautet z.B. mit Skalar $n=2$ für ein Array $\\pmb{b}$:\n",
    "$$\n",
    "{b_1}^2 - {b_2}^2 + {b_3}^2 - {b_4}^2 + {b_5}^2 \\ldots\n",
    "$$\n",
    "\n",
    "  * Die Funktion soll das skalare Ergebnis der Rechnung zurückgeben. (_3 Punkte_)\n",
    "  * Verwenden Sie NumPy-Arrays und verzichten Sie nach Möglichkeit auf if-Klauseln und Schleifen. (_3 Punkte_)\n",
    "  * Das Array muss als Parameter übergeben werden. Das Skalar $n$ soll als optionaler Parameter übergeben werden können und als Default den Wert 2 erhalten. (_3 Punkte_)\n"
   ]
  },
  {
   "cell_type": "code",
   "execution_count": 180,
   "id": "f652f5f8",
   "metadata": {
    "deletable": false,
    "nbgrader": {
     "cell_type": "code",
     "checksum": "f387a5f25b71f909f7e7173577afe055",
     "grade": false,
     "grade_id": "cell-a03v01c02",
     "locked": false,
     "schema_version": 3,
     "solution": true,
     "task": false
    },
    "signature": "64e4f"
   },
   "outputs": [],
   "source": [
    "addsub = None # Definieren Sie addsub als Funktion!\n",
    "# Hier eigenen Code schreiben ...\n",
    "def addsub(b: np.ndarray, n: float = 2) -> float:\n",
    "    b_pot = b**n\n",
    "    add = np.sum(b_pot[0::2])\n",
    "    sub = np.sum(b_pot[1::2])\n",
    "    result = add - sub\n",
    "    return result"
   ]
  },
  {
   "cell_type": "code",
   "execution_count": 181,
   "id": "f652f5f9",
   "metadata": {
    "deletable": false,
    "editable": false,
    "nbgrader": {
     "cell_type": "code",
     "checksum": "2ad75696372f0591068cea66fc3ea752",
     "grade": true,
     "grade_id": "cell-a03v01c03",
     "locked": true,
     "points": 3,
     "schema_version": 3,
     "solution": false,
     "task": false
    },
    "signature": "64e4f"
   },
   "outputs": [],
   "source": [
    "# Hier ist ein Plausibilitäts-Test:\n",
    "assert addsub is not None"
   ]
  },
  {
   "cell_type": "code",
   "execution_count": 182,
   "id": "f652f5fa",
   "metadata": {
    "deletable": false,
    "editable": false,
    "nbgrader": {
     "cell_type": "code",
     "checksum": "e08dcc1d4c7a796d6abe7664b8702d20",
     "grade": true,
     "grade_id": "cell-a03v01c04",
     "locked": true,
     "points": 3,
     "schema_version": 3,
     "solution": false,
     "task": false
    },
    "signature": "64e4f"
   },
   "outputs": [],
   "source": [
    "# Hier ist ein Plausibilitäts-Test:\n",
    "testarray = np.array([-3.9, -0.3, -3.6, -0.1, -4.0, -1.6, -2.7, -1.0, -3.3, -3.6, -3.3, 2.3, -3.5, 2.9, -1.6])\n",
    "assert addsub(testarray,2) is not None"
   ]
  },
  {
   "cell_type": "code",
   "execution_count": 183,
   "id": "f652f5fb",
   "metadata": {
    "deletable": false,
    "editable": false,
    "nbgrader": {
     "cell_type": "code",
     "checksum": "255b2b3acd886ba449e0fc80521b4dc2",
     "grade": true,
     "grade_id": "cell-a03v01c05",
     "locked": true,
     "points": 3,
     "schema_version": 3,
     "solution": false,
     "task": false
    },
    "signature": "64e4f"
   },
   "outputs": [],
   "source": [
    "# Hier ist ein Plausibilitäts-Test:\n",
    "assert np.isclose(addsub(testarray,2),57.73,atol=1e-3)"
   ]
  },
  {
   "cell_type": "code",
   "execution_count": 184,
   "id": "f652f5fc",
   "metadata": {
    "deletable": false,
    "editable": false,
    "nbgrader": {
     "cell_type": "code",
     "checksum": "5edf37a582780161a481125dae85d2ee",
     "grade": true,
     "grade_id": "cell-a03v01c06",
     "locked": true,
     "points": 3,
     "schema_version": 3,
     "solution": false,
     "task": false
    },
    "signature": "64e4f"
   },
   "outputs": [],
   "source": [
    "# Hier ist ein Plausibilitäts-Test:\n",
    "assert addsub(testarray,3) is not None"
   ]
  },
  {
   "cell_type": "code",
   "execution_count": 185,
   "id": "f652f5fd",
   "metadata": {
    "deletable": false,
    "editable": false,
    "nbgrader": {
     "cell_type": "code",
     "checksum": "b7b56f966da165fca31a415611bdbc9f",
     "grade": true,
     "grade_id": "cell-a03v01c07",
     "locked": true,
     "points": 3,
     "schema_version": 3,
     "solution": false,
     "task": false
    },
    "signature": "64e4f"
   },
   "outputs": [],
   "source": [
    "# Hier ist ein Plausibilitäts-Test:\n",
    "assert addsub(testarray,2) != addsub(testarray,3)"
   ]
  },
  {
   "cell_type": "markdown",
   "id": "f652f5fe",
   "metadata": {
    "deletable": false,
    "editable": false,
    "nbgrader": {
     "cell_type": "markdown",
     "checksum": "eb3ec85ddaf6d3934b707894aeb57594",
     "grade": false,
     "grade_id": "cell-a04v01c01",
     "locked": true,
     "schema_version": 3,
     "solution": false,
     "task": false
    },
    "signature": "64e4f"
   },
   "source": [
    "### 4. Visualisierung\n",
    "\n",
    "#### 4.1. Array mit aufsteigenden Werten (2 Punkte)\n",
    "\n",
    "Erstellen Sie einen Vektor `x` (1-dimensionales NumPy-Array), der genau 286 äquidistant verteilte aufsteigende Zahlen im Intervall von (jeweils inklusive) -2 bis 24 enthält."
   ]
  },
  {
   "cell_type": "code",
   "execution_count": 189,
   "id": "f652f5ff",
   "metadata": {
    "deletable": false,
    "nbgrader": {
     "cell_type": "code",
     "checksum": "8ee99307576fc62e76e6bf7874c4238e",
     "grade": false,
     "grade_id": "cell-a04v01c02",
     "locked": false,
     "schema_version": 3,
     "solution": true,
     "task": false
    },
    "signature": "64e4f"
   },
   "outputs": [],
   "source": [
    "x = None\n",
    "# Hier eigenen Code schreiben ...\n",
    "start = -2\n",
    "stop = 24\n",
    "n_elements = 286\n",
    "\n",
    "x = np.linspace(start=start, stop=stop, num=n_elements)"
   ]
  },
  {
   "cell_type": "code",
   "execution_count": 190,
   "id": "f652f600",
   "metadata": {
    "deletable": false,
    "editable": false,
    "nbgrader": {
     "cell_type": "code",
     "checksum": "62170decbf1a9fd281bb4242c9fd9c36",
     "grade": true,
     "grade_id": "cell-a04v01c03",
     "locked": true,
     "points": 2,
     "schema_version": 3,
     "solution": false,
     "task": false
    },
    "signature": "64e4f"
   },
   "outputs": [],
   "source": [
    "# Hier ist ein Plausibilitäts-Test:\n",
    "assert x is not None"
   ]
  },
  {
   "cell_type": "markdown",
   "id": "f652f601",
   "metadata": {
    "deletable": false,
    "editable": false,
    "nbgrader": {
     "cell_type": "markdown",
     "checksum": "e3ba6f3882dc89683e73c7fe6dacd9ec",
     "grade": false,
     "grade_id": "cell-a04v01c04",
     "locked": true,
     "schema_version": 3,
     "solution": false,
     "task": false
    },
    "signature": "64e4f"
   },
   "source": [
    "#### 4.2. Funktionswerte (2 Punkte)\n",
    "\n",
    "Führen Sie für alle Werte in `x` die Berechnung\n",
    "\n",
    "$$\n",
    "y = 8 \\cdot \\sin(1.9\\,x)\n",
    "$$\n",
    "\n",
    "durch und speichern Sie das Ergebnis in einem Array `y`."
   ]
  },
  {
   "cell_type": "code",
   "execution_count": 196,
   "id": "f652f602",
   "metadata": {
    "deletable": false,
    "nbgrader": {
     "cell_type": "code",
     "checksum": "1c566c3190d00991c08c3e971edad207",
     "grade": false,
     "grade_id": "cell-a04v01c05",
     "locked": false,
     "schema_version": 3,
     "solution": true,
     "task": false
    },
    "signature": "64e4f"
   },
   "outputs": [],
   "source": [
    "y = None\n",
    "# Hier eigenen Code schreiben ...\n",
    "from math import sin\n",
    "y = 8 * np.sin(1.9 * x)"
   ]
  },
  {
   "cell_type": "code",
   "execution_count": 193,
   "id": "f652f603",
   "metadata": {
    "deletable": false,
    "editable": false,
    "nbgrader": {
     "cell_type": "code",
     "checksum": "23cedd265f54ab5d27e75be58e972405",
     "grade": true,
     "grade_id": "cell-a04v01c06",
     "locked": true,
     "points": 2,
     "schema_version": 3,
     "solution": false,
     "task": false
    },
    "signature": "64e4f"
   },
   "outputs": [],
   "source": [
    "# Hier ist ein Plausibilitäts-Test:\n",
    "assert y is not None"
   ]
  },
  {
   "attachments": {
    "yZ.png": {
     "image/png": "[encoded data removed]"
    }
   },
   "cell_type": "markdown",
   "id": "f652f604",
   "metadata": {
    "deletable": false,
    "editable": false,
    "nbgrader": {
     "cell_type": "markdown",
     "checksum": "60c20a17068a502517ded00795a591e4",
     "grade": false,
     "grade_id": "cell-a04v01c07",
     "locked": true,
     "schema_version": 3,
     "solution": false,
     "task": false
    },
    "signature": "64e4f"
   },
   "source": [
    "#### 4.3. Umsortieren (2 Punkte)\n",
    "\n",
    "Teilen Sie den Vektor `y` in 11 gleich große Abschnitte und schreiben Sie diese untereinander in ein 2D-Array `A` mit 11 Zeilen.\n",
    "\n",
    "Orientieren Sie sich an folgendem Beispiel-Schema zur Umsortierung (dies hat jedoch nur 5 Zeilen!):\n",
    "\n",
    "![yZ.png](attachment:yZ.png)"
   ]
  },
  {
   "cell_type": "code",
   "execution_count": 203,
   "id": "f652f605",
   "metadata": {
    "deletable": false,
    "nbgrader": {
     "cell_type": "code",
     "checksum": "f47032b296cb31cbf74db33ef9719b59",
     "grade": false,
     "grade_id": "cell-a04v01c08",
     "locked": false,
     "schema_version": 3,
     "solution": true,
     "task": false
    },
    "signature": "64e4f"
   },
   "outputs": [],
   "source": [
    "A = None\n",
    "# Hier eigenen Code schreiben ...\n",
    "n_sections = 11\n",
    "A = np.vstack(np.split(y, n_sections))"
   ]
  },
  {
   "cell_type": "code",
   "execution_count": 204,
   "id": "f652f606",
   "metadata": {
    "deletable": false,
    "editable": false,
    "nbgrader": {
     "cell_type": "code",
     "checksum": "eae12e80d91a89c5b1d8b5617bd933bb",
     "grade": true,
     "grade_id": "cell-a04v01c09",
     "locked": true,
     "points": 2,
     "schema_version": 3,
     "solution": false,
     "task": false
    },
    "signature": "64e4f"
   },
   "outputs": [],
   "source": [
    "# Hier ist ein Plausibilitäts-Test:\n",
    "assert A is not None"
   ]
  },
  {
   "attachments": {
    "figure413263.png": {
     "image/png": "[encoded data removed]"
    }
   },
   "cell_type": "markdown",
   "id": "f652f607",
   "metadata": {
    "deletable": false,
    "editable": false,
    "nbgrader": {
     "cell_type": "markdown",
     "checksum": "e176fef6c9bee871ae38108b1da93873",
     "grade": false,
     "grade_id": "cell-a04v01c10",
     "locked": true,
     "schema_version": 3,
     "solution": false,
     "task": false
    },
    "signature": "64e4f"
   },
   "source": [
    "#### 4.4. Abbildungen (10 Punkte)\n",
    "\n",
    "Erstellen Sie aus den generierten Daten eine mehrteilige Abbildung, die der folgenden entspricht: \n",
    "\n",
    "![figure413263.png](attachment:figure413263.png)\n",
    "\n",
    "Hinweise:\n",
    "  * Wenn Sie obige Berechnung korrekt umgesetzt haben, sollte Ihre Abbildung sehr ähnlich aussehen.\n",
    "  * Linker Plot: visualisiert `y` über `x`. Beachten Sie Beschriftung *und* Gleichskalierung der Achsen sowie die Darstellung eines hinterlegten Gitters.\n",
    "  * Mittlerer Plot: Inhalt von `A` wird visualisiert. Die Farbskala ordnet den Farben Werte zu.\n",
    "  * Rechter Plot:\n",
    "    * Hier werden die mittlere Zeile von `A` als x-Koordinate und die **anderen** Zeilen jeweils für eine Farbe als y-Koordinaten interpretiert.\n",
    "    * Eine Legende macht die Zuordnung zu den Zeilen deutlich.\n",
    "    * Die Größe der Punkte soll abhängig von der Spalte variieren (z.B. wie oben: [60, 58, 56, ... , 12, 10]).\n",
    "  * Beachten Sie auch die Kommentare unterhalb der folgenden Codezelle, um die Korrektheit Ihrer Lösung zu überprüfen."
   ]
  },
  {
   "cell_type": "code",
   "execution_count": 266,
   "id": "f652f608",
   "metadata": {
    "deletable": false,
    "nbgrader": {
     "cell_type": "code",
     "checksum": "470983c6a8c4315688a9bca8ab25a9a8",
     "grade": false,
     "grade_id": "cell-a04v01c11",
     "locked": false,
     "schema_version": 3,
     "solution": true,
     "task": false
    },
    "signature": "64e4f"
   },
   "outputs": [
    {
     "data": {
      "image/png": "[encoded data removed]",
      "text/plain": [
       "<Figure size 864x216 with 4 Axes>"
      ]
     },
     "metadata": {
      "needs_background": "light"
     },
     "output_type": "display_data"
    }
   ],
   "source": [
    "import matplotlib.pyplot as plt\n",
    "# Hier eigenen Code schreiben ...\n",
    "plt.figure(figsize=(12, 3))\n",
    "\n",
    "plt.subplot(1, 3, 1)\n",
    "plt.plot(x, y)\n",
    "plt.axis('equal')\n",
    "plt.grid()\n",
    "plt.ylabel(\"y / m\")\n",
    "plt.xlabel(\"x / m\")\n",
    "\n",
    "plt.subplot(1, 3, 2)\n",
    "plt.imshow(A)\n",
    "plt.colorbar()\n",
    "\n",
    "plt.subplot(1, 3, 3)\n",
    "plt.subplots_adjust(wspace=0.2)\n",
    "s_scatter = np.arange(60, 9, -2)\n",
    "x_scatter = A[5]\n",
    "for i, row in enumerate(A):\n",
    "    if i != 5:\n",
    "        y_scatter = A[i]\n",
    "        plt.scatter(x_scatter, y_scatter, s=s_scatter, label=f\"{i+1}. Zeile\", alpha=0.5)\n",
    "plt.legend()\n",
    "\n",
    "plt.show()"
   ]
  },
  {
   "cell_type": "markdown",
   "id": "f652f609",
   "metadata": {
    "deletable": false,
    "editable": false,
    "nbgrader": {
     "cell_type": "markdown",
     "checksum": "f830b67a08bc15ce8e75408778e05398",
     "grade": false,
     "grade_id": "cell-a04v01c10desc",
     "locked": true,
     "schema_version": 3,
     "solution": false,
     "task": false
    },
    "signature": "64e4f"
   },
   "source": [
    "Ihre Abbildung wird auf folgende Kriterien untersucht:"
   ]
  },
  {
   "cell_type": "code",
   "execution_count": null,
   "id": "f652f60a",
   "metadata": {
    "deletable": false,
    "editable": false,
    "nbgrader": {
     "cell_type": "code",
     "checksum": "0f1f0185aa2f1b213fa5c68074ed0f06",
     "grade": true,
     "grade_id": "cell-a04v01c11auto01",
     "locked": true,
     "points": 1,
     "schema_version": 3,
     "solution": false,
     "task": false
    },
    "signature": "64e4f"
   },
   "outputs": [],
   "source": [
    "# Sind die 3 Abbildungen nebeneinander dargestellt?"
   ]
  },
  {
   "cell_type": "code",
   "execution_count": null,
   "id": "f652f60b",
   "metadata": {
    "deletable": false,
    "editable": false,
    "nbgrader": {
     "cell_type": "code",
     "checksum": "04474ce1e3b1ed378037d0e3e14bcf97",
     "grade": true,
     "grade_id": "cell-a04v01c11auto02",
     "locked": true,
     "points": 1,
     "schema_version": 3,
     "solution": false,
     "task": false
    },
    "signature": "64e4f"
   },
   "outputs": [],
   "source": [
    "# Wird links y über x geplottet?"
   ]
  },
  {
   "cell_type": "code",
   "execution_count": null,
   "id": "f652f60c",
   "metadata": {
    "deletable": false,
    "editable": false,
    "nbgrader": {
     "cell_type": "code",
     "checksum": "3ba48adc0209364edfd9f84e6dc0e36f",
     "grade": true,
     "grade_id": "cell-a04v01c11auto03",
     "locked": true,
     "points": 1,
     "schema_version": 3,
     "solution": false,
     "task": false
    },
    "signature": "64e4f"
   },
   "outputs": [],
   "source": [
    "# Ist ein Gitter hinterlegt?"
   ]
  },
  {
   "cell_type": "code",
   "execution_count": null,
   "id": "f652f60d",
   "metadata": {
    "deletable": false,
    "editable": false,
    "nbgrader": {
     "cell_type": "code",
     "checksum": "ba278bc5432c530d347fb6bc206c0f9a",
     "grade": true,
     "grade_id": "cell-a04v01c11auto04",
     "locked": true,
     "points": 1,
     "schema_version": 3,
     "solution": false,
     "task": false
    },
    "signature": "64e4f"
   },
   "outputs": [],
   "source": [
    "# Sind die Achsen beschriftet?"
   ]
  },
  {
   "cell_type": "code",
   "execution_count": null,
   "id": "f652f60e",
   "metadata": {
    "deletable": false,
    "editable": false,
    "nbgrader": {
     "cell_type": "code",
     "checksum": "2a1a3cb3ce72a5b640c49182bd41c51b",
     "grade": true,
     "grade_id": "cell-a04v01c11auto05",
     "locked": true,
     "points": 1,
     "schema_version": 3,
     "solution": false,
     "task": false
    },
    "signature": "64e4f"
   },
   "outputs": [],
   "source": [
    "# Sind die Achsen links gleichskaliert?"
   ]
  },
  {
   "cell_type": "code",
   "execution_count": null,
   "id": "f652f60f",
   "metadata": {
    "deletable": false,
    "editable": false,
    "nbgrader": {
     "cell_type": "code",
     "checksum": "e1e73010866badffa91d1a4a96351a98",
     "grade": true,
     "grade_id": "cell-a04v01c11auto06",
     "locked": true,
     "points": 1,
     "schema_version": 3,
     "solution": false,
     "task": false
    },
    "signature": "64e4f"
   },
   "outputs": [],
   "source": [
    "# Entspricht die mittlere Visualisierung von A der Vorgabe?"
   ]
  },
  {
   "cell_type": "code",
   "execution_count": null,
   "id": "f652f610",
   "metadata": {
    "deletable": false,
    "editable": false,
    "nbgrader": {
     "cell_type": "code",
     "checksum": "d6a1df208a4cb598406dbb61883e56bd",
     "grade": true,
     "grade_id": "cell-a04v01c11auto07",
     "locked": true,
     "points": 1,
     "schema_version": 3,
     "solution": false,
     "task": false
    },
    "signature": "64e4f"
   },
   "outputs": [],
   "source": [
    "# Ist eine Farbskala vorhanden?"
   ]
  },
  {
   "cell_type": "code",
   "execution_count": null,
   "id": "f652f611",
   "metadata": {
    "deletable": false,
    "editable": false,
    "nbgrader": {
     "cell_type": "code",
     "checksum": "902c7d6d9e7446c5e74b26693583d63b",
     "grade": true,
     "grade_id": "cell-a04v01c11auto08",
     "locked": true,
     "points": 2,
     "schema_version": 3,
     "solution": false,
     "task": false
    },
    "signature": "64e4f"
   },
   "outputs": [],
   "source": [
    "# Sind im rechten Plot die Daten aus A korrekt zugeordnet und dargestellt?"
   ]
  },
  {
   "cell_type": "code",
   "execution_count": null,
   "id": "f652f612",
   "metadata": {
    "deletable": false,
    "editable": false,
    "nbgrader": {
     "cell_type": "code",
     "checksum": "f07cef6f97c83059e6c41a8e14b662f0",
     "grade": true,
     "grade_id": "cell-a04v01c11auto09",
     "locked": true,
     "points": 1,
     "schema_version": 3,
     "solution": false,
     "task": false
    },
    "signature": "64e4f"
   },
   "outputs": [],
   "source": [
    "# Ist die Legende vorhanden und korrekt?"
   ]
  },
  {
   "cell_type": "markdown",
   "id": "f652f613",
   "metadata": {
    "deletable": false,
    "editable": false,
    "nbgrader": {
     "cell_type": "markdown",
     "checksum": "9be27675a22eeaba751fafc52a7e8cf1",
     "grade": false,
     "grade_id": "cell-a04v01c12",
     "locked": true,
     "schema_version": 3,
     "solution": false,
     "task": false
    },
    "signature": "64e4f"
   },
   "source": [
    "#### 4.5. Boole'sches Array (2 Punkte)\n",
    "\n",
    "Erstellen Sie ein Array `B` mit exakt denselben Dimensionen wie `A`, das an den Positionen, wo in `A` eine negative Zahl steht, den Wert `True` hat und an allen anderen Stellen den Wert `False`. Verwenden Sie keine Schleifen oder if-Klauseln zur Erstellung."
   ]
  },
  {
   "cell_type": "code",
   "execution_count": 217,
   "id": "f652f614",
   "metadata": {
    "deletable": false,
    "nbgrader": {
     "cell_type": "code",
     "checksum": "38b633ab009988ff1487af591ee9d4a1",
     "grade": false,
     "grade_id": "cell-a04v01c13",
     "locked": false,
     "schema_version": 3,
     "solution": true,
     "task": false
    },
    "signature": "64e4f"
   },
   "outputs": [],
   "source": [
    "B = None # <-- Es ist durchaus möglich, dass Ihre Lösung kürzer ist als dieser Befehl.\n",
    "# Hier eigenen Code schreiben ...\n",
    "B = A < 0"
   ]
  },
  {
   "cell_type": "code",
   "execution_count": 214,
   "id": "f652f615",
   "metadata": {
    "deletable": false,
    "editable": false,
    "nbgrader": {
     "cell_type": "code",
     "checksum": "17a16c75a401e6e4b42bade0c05969d7",
     "grade": true,
     "grade_id": "cell-a04v01c14",
     "locked": true,
     "points": 2,
     "schema_version": 3,
     "solution": false,
     "task": false
    },
    "signature": "64e4f"
   },
   "outputs": [],
   "source": [
    "# Hier ist ein Plausibilitäts-Test:\n",
    "assert B is not None and B.shape==A.shape"
   ]
  },
  {
   "cell_type": "markdown",
   "id": "f652f616",
   "metadata": {
    "deletable": false,
    "editable": false,
    "nbgrader": {
     "cell_type": "markdown",
     "checksum": "5ec0a87cfcbb059af52390cfc1891d14",
     "grade": false,
     "grade_id": "cell-a04v01c15",
     "locked": true,
     "schema_version": 3,
     "solution": false,
     "task": false
    },
    "signature": "64e4f"
   },
   "source": [
    "#### 4.6. Bedingte Array-Indizierung (2 Punkte)\n",
    "\n",
    "Erstellen Sie eine Kopie des Arrays `A` mit dem Namen `C`. Ändern Sie `C` so, dass alle negativen Werte auf den Wert 0 gesetzt werden. Achten Sie darauf, dass das Array A hierbei nicht geändert wird. Verwenden Sie keine Schleifen oder if-Klauseln zur Erstellung."
   ]
  },
  {
   "cell_type": "code",
   "execution_count": 218,
   "id": "f652f617",
   "metadata": {
    "deletable": false,
    "nbgrader": {
     "cell_type": "code",
     "checksum": "8974132d03cd466cd52e9739c709b38e",
     "grade": false,
     "grade_id": "cell-a04v01c16",
     "locked": false,
     "schema_version": 3,
     "solution": true,
     "task": false
    },
    "signature": "64e4f"
   },
   "outputs": [],
   "source": [
    "C = None \n",
    "# Hier eigenen Code schreiben ...\n",
    "C = np.copy(A)\n",
    "C[B] = 0"
   ]
  },
  {
   "cell_type": "code",
   "execution_count": 219,
   "id": "f652f618",
   "metadata": {
    "deletable": false,
    "editable": false,
    "nbgrader": {
     "cell_type": "code",
     "checksum": "1a22d5501dbc8677b2b068a17ff64a31",
     "grade": true,
     "grade_id": "cell-a04v01c17",
     "locked": true,
     "points": 1,
     "schema_version": 3,
     "solution": false,
     "task": false
    },
    "signature": "64e4f"
   },
   "outputs": [],
   "source": [
    "# Hier ist ein Plausibilitäts-Test:\n",
    "assert C is not None and C.shape==A.shape"
   ]
  },
  {
   "cell_type": "code",
   "execution_count": 220,
   "id": "f652f619",
   "metadata": {
    "deletable": false,
    "editable": false,
    "nbgrader": {
     "cell_type": "code",
     "checksum": "61688d0c816d7b5a9262853cffeac1e7",
     "grade": true,
     "grade_id": "cell-a04v01c18",
     "locked": true,
     "points": 1,
     "schema_version": 3,
     "solution": false,
     "task": false
    },
    "signature": "64e4f"
   },
   "outputs": [],
   "source": [
    "# Hier ist ein Plausibilitäts-Test:\n",
    "assert C.sum() > 0"
   ]
  },
  {
   "cell_type": "markdown",
   "id": "f652f61a",
   "metadata": {
    "deletable": false,
    "editable": false,
    "nbgrader": {
     "cell_type": "markdown",
     "checksum": "1622872cc9f363f269f701020303e5e1",
     "grade": false,
     "grade_id": "cell-a05v01c01",
     "locked": true,
     "schema_version": 3,
     "solution": false,
     "task": false
    },
    "signature": "64e4f"
   },
   "source": [
    "### 5. Mehrere Wege zum gleichen Ziel\n",
    "\n",
    "#### 5.1. List Comprehension (10 Punkte)\n",
    "\n",
    "Gegeben sei folgende Liste:"
   ]
  },
  {
   "cell_type": "code",
   "execution_count": 222,
   "id": "f652f61b",
   "metadata": {
    "deletable": false,
    "editable": false,
    "nbgrader": {
     "cell_type": "code",
     "checksum": "cefd6999ba10d905cfc84340a88f179c",
     "grade": false,
     "grade_id": "cell-a05v01c02",
     "locked": true,
     "schema_version": 3,
     "solution": false,
     "task": false
    },
    "signature": "64e4f"
   },
   "outputs": [],
   "source": [
    "liste = [ 10, -9, -9, -3,  9, -5, -5, 10,-10, -7,  2, -2,  1, -9,  9, -6,  2,  6,\n",
    "   7, -2, -1,  4, -3, -5, -8]"
   ]
  },
  {
   "cell_type": "markdown",
   "id": "f652f61c",
   "metadata": {
    "deletable": false,
    "editable": false,
    "nbgrader": {
     "cell_type": "markdown",
     "checksum": "b7ad8c0153c521dd0cce932157079aa0",
     "grade": false,
     "grade_id": "cell-a05v01c03",
     "locked": true,
     "schema_version": 3,
     "solution": false,
     "task": false
    },
    "signature": "64e4f"
   },
   "source": [
    "Der Befehl \n",
    "\n",
    "```python\n",
    "sum([zahl for zahl in liste])\n",
    "```\n",
    "\n",
    "führt eine Berechnung der _Summe_ der Zahlen durch. \n",
    "\n",
    "Schreiben Sie in der folgenden Zelle einen Befehl mit dem Ergebnis, dass die Variable `anzahl1` die _Anzahl_ der Zahlen enthält, die _außerhalb_ des Intervalls $[-5.5, 6.5]$ liegen. Verwenden Sie neben geeigneten Werten und Operatoren nach wie vor nur eine List Comprehension und die `sum`-Funktion."
   ]
  },
  {
   "cell_type": "code",
   "execution_count": 227,
   "id": "f652f61d",
   "metadata": {
    "deletable": false,
    "nbgrader": {
     "cell_type": "code",
     "checksum": "dfaca9204d918293ee0caac18ecc4eb0",
     "grade": false,
     "grade_id": "cell-a05v01c04",
     "locked": false,
     "schema_version": 3,
     "solution": true,
     "task": false
    },
    "signature": "64e4f"
   },
   "outputs": [],
   "source": [
    "anzahl1 = None\n",
    "# Hier eigenen Code schreiben ...\n",
    "anzahl1 = sum([1 for zahl in liste if zahl > 6.5 or zahl < -5.5])"
   ]
  },
  {
   "cell_type": "code",
   "execution_count": 228,
   "id": "f652f61e",
   "metadata": {
    "deletable": false,
    "editable": false,
    "nbgrader": {
     "cell_type": "code",
     "checksum": "41d0dfc4c11b9bed68c4a497f154835e",
     "grade": true,
     "grade_id": "cell-a05v01c05",
     "locked": true,
     "points": 3,
     "schema_version": 3,
     "solution": false,
     "task": false
    },
    "signature": "64e4f"
   },
   "outputs": [],
   "source": [
    "# Hier ist ein Plausibilitäts-Test:\n",
    "assert type(anzahl1) == int"
   ]
  },
  {
   "cell_type": "code",
   "execution_count": 229,
   "id": "f652f61f",
   "metadata": {
    "deletable": false,
    "editable": false,
    "nbgrader": {
     "cell_type": "code",
     "checksum": "aaea7d6efaeb6be708c10b7903be2249",
     "grade": true,
     "grade_id": "cell-a05v01c06",
     "locked": true,
     "points": 7,
     "schema_version": 3,
     "solution": false,
     "task": false
    },
    "signature": "64e4f"
   },
   "outputs": [],
   "source": [
    "# Hier ist ein Plausibilitäts-Test:\n",
    "assert anzahl1 > 0\n"
   ]
  },
  {
   "cell_type": "markdown",
   "id": "f652f620",
   "metadata": {
    "deletable": false,
    "editable": false,
    "nbgrader": {
     "cell_type": "markdown",
     "checksum": "a55a9a9e5028eca35419bf79fc6ea145",
     "grade": false,
     "grade_id": "cell-a05v01c07",
     "locked": true,
     "schema_version": 3,
     "solution": false,
     "task": false
    },
    "signature": "64e4f"
   },
   "source": [
    "#### 5.2. Schleifenalternative (10 Punkte)\n",
    "\n",
    "Schreiben Sie einen Code-Abschnitt, der für die Liste `liste` dasselbe Ergebnis wie in 5.1. ermittelt (der Ergebniswert in `anzahl2` sei also die Anzahl der Zahlen, die außerhalb des obigen Intervalls liegen). Lösen Sie das Problem jedoch _ohne_ Verwendung einer `for`-Schleife (also auch nicht in einer List Comprehension). Verwenden Sie z.B. eine `while`-Schleife."
   ]
  },
  {
   "cell_type": "code",
   "execution_count": 235,
   "id": "f652f621",
   "metadata": {
    "deletable": false,
    "nbgrader": {
     "cell_type": "code",
     "checksum": "e57a1387ab20fdd7361da494c472f310",
     "grade": false,
     "grade_id": "cell-a05v01c08",
     "locked": false,
     "schema_version": 3,
     "solution": true,
     "task": false
    },
    "signature": "64e4f"
   },
   "outputs": [],
   "source": [
    "anzahl2 = 0\n",
    "# Hier eigenen Code schreiben ...\n",
    "i = 0\n",
    "while(i < len(liste)):\n",
    "    if liste[i] > 6.5 or liste[i] < -5.5:\n",
    "        anzahl2 += 1\n",
    "    i += 1"
   ]
  },
  {
   "cell_type": "code",
   "execution_count": 233,
   "id": "f652f622",
   "metadata": {
    "deletable": false,
    "editable": false,
    "nbgrader": {
     "cell_type": "code",
     "checksum": "f115a20a9ab858c845dc62595ab4bd4f",
     "grade": true,
     "grade_id": "cell-a05v01c09",
     "locked": true,
     "points": 3,
     "schema_version": 3,
     "solution": false,
     "task": false
    },
    "signature": "64e4f"
   },
   "outputs": [],
   "source": [
    "# Hier ist ein Plausibilitäts-Test:\n",
    "assert anzahl2 is not None"
   ]
  },
  {
   "cell_type": "code",
   "execution_count": 234,
   "id": "f652f623",
   "metadata": {
    "deletable": false,
    "editable": false,
    "nbgrader": {
     "cell_type": "code",
     "checksum": "9dedc2a8ccaf6c9861945edf2e9b79c8",
     "grade": true,
     "grade_id": "cell-a05v01c10",
     "locked": true,
     "points": 7,
     "schema_version": 3,
     "solution": false,
     "task": false
    },
    "signature": "64e4f"
   },
   "outputs": [],
   "source": [
    "# Hier ist ein Plausibilitäts-Test:\n",
    "assert anzahl2 != 0\n"
   ]
  }
 ],
 "metadata": {
  "kernelspec": {
   "display_name": "Python 3.6.6 64-bit",
   "language": "python",
   "name": "python3"
  },
  "language_info": {
   "codemirror_mode": {
    "name": "ipython",
    "version": 3
   },
   "file_extension": ".py",
   "mimetype": "text/x-python",
   "name": "python",
   "nbconvert_exporter": "python",
   "pygments_lexer": "ipython3",
   "version": "3.6.6"
  },
  "vscode": {
   "interpreter": {
    "hash": "c74695a1986eb805acdc300e144e607ab704b382b143faef1773ce61696f4aab"
   }
  }
 },
 "nbformat": 4,
 "nbformat_minor": 5
}
