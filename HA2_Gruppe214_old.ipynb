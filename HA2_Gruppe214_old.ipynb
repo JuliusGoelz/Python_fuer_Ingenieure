{
 "cells": [
  {
   "cell_type": "markdown",
   "metadata": {},
   "source": [
    "# Hausaufgabe 2\n",
    "## Ablassung eines Stausees\n",
    "<!-- Lizensiert unter (CC BY 4.0) Gert Herold, 2021 -->\n",
    "\n",
    "Wegen Reparaturarbeiten an der Staumauer einer Talsperre soll das Wasser abgelassen werden. Der See habe ein Fassungsvermögen von $215 \\cdot 10^6\\,\\text{m}^3$. Die Oberfläche des Stausees erstrecke sich über $10\\,\\text{km}^2$. Der Wasserauslass auf Grundhöhe habe einen Querschnitt von $2\\,\\text{m}^2$. Der Fluss selbst werde so umgeleitet, dass kein Wasser in den See nachfließen kann."
   ]
  },
  {
   "cell_type": "markdown",
   "metadata": {},
   "source": [
    "### 1) Anfangsbedingungen\n",
    "\n",
    "**1.1) Es werde angenommen, die Form des Sees lasse sich mit einem umgedrehten [Kegel](https://de.wikipedia.org/wiki/Kegel_(Geometrie)) annähern. Wie tief ist dann der See?**\n",
    "\n",
    "Speichern Sie das Ergebnis (in Metern) in der Variablen `h0` und geben Sie sie aus."
   ]
  },
  {
   "cell_type": "code",
   "execution_count": 1,
   "metadata": {},
   "outputs": [],
   "source": [
    "h0 = None \n",
    "# Hier eigenen Code schreiben ...\n",
    "A0 = 10 * 10**6\n",
    "V = 215 * 10**6\n",
    "h0 = V*3/A0"
   ]
  },
  {
   "cell_type": "code",
   "execution_count": 2,
   "metadata": {
    "deletable": false,
    "editable": false,
    "tags": []
   },
   "outputs": [],
   "source": [
    "# Hier ist ein Plausibilitäts-Test:\n",
    "assert 60 < h0 < 80"
   ]
  },
  {
   "cell_type": "markdown",
   "metadata": {},
   "source": [
    "Vereinfachend werde angenommen, dass die sich ausbildende Strömung sich mithilfe der [Bernoulli-Gleichung](https://de.wikipedia.org/wiki/Bernoulli-Gleichung) beschreiben lasse:\n",
    "\n",
    "$$\n",
    "\\frac{u^2}{2}+\\frac{p}{\\rho}+g \\, z = \\text{const}\n",
    "$$\n",
    "\n",
    "Dabei beschreibt $u$ die Strömungsgeschwindigkeit des Fluids an einer beliebigen betrachteten Stelle, $p$ den hydrodynamischen Druck, $\\rho$ die Dichte und $z$ die Höhe. $g=9{,}81\\frac{\\text{m}}{\\text{s}^2}$ ist die Erdbeschleunigung. Werden nur die Seeoberfläche und der Ausfluss betrachtet, so kann der Druck $p$ ebenfalls als konstant angenommen werden, da er dem Umgebungsdruck entspricht. Ebenso wird die Dichte als konstant angenommen, und die obige Gleichung vereinfacht sich zu \n",
    "\n",
    "$$\n",
    "\\frac{u^2}{2}+g \\, z = \\text{const}\n",
    "$$\n",
    "\n",
    "bzw. für oben und unten:\n",
    "\n",
    "$$\n",
    "\\frac{u_\\text{oben}^2}{2}+g \\, z_\\text{oben} = \\frac{u_\\text{unten}^2}{2}+g \\, z_\\text{unten}\n",
    "$$"
   ]
  },
  {
   "cell_type": "markdown",
   "metadata": {},
   "source": [
    "**1.2) Berechnen Sie die sich anfangs ausbildende Strömungsgeschwindigkeit am Ausfluss $u_\\text{unten,0}$ (`u_unten0`) in m/s sowie den Volumenstrom $\\dot{V_0}$ (`Vdot0`) in m³/s unter der Annahme, dass die Bewegung der Seeoberfläche vernachlässigbar ist.**"
   ]
  },
  {
   "cell_type": "code",
   "execution_count": 3,
   "metadata": {},
   "outputs": [],
   "source": [
    "u_unten0 = None\n",
    "Vdot0 = None\n",
    "# Hier eigenen Code schreiben ...\n",
    "from math import sqrt, pi\n",
    "\n",
    "u_unten0 = sqrt(2*9.81*h0)\n",
    "Vdot0 = 2 * u_unten0"
   ]
  },
  {
   "cell_type": "code",
   "execution_count": 4,
   "metadata": {
    "deletable": false,
    "editable": false,
    "tags": []
   },
   "outputs": [],
   "source": [
    "# Hier sind einige Plausibilitäts-Tests:\n",
    "assert u_unten0 > 30\n",
    "assert Vdot0 < 80"
   ]
  },
  {
   "cell_type": "markdown",
   "metadata": {},
   "source": [
    "Tipp: Um die Kreiszahl $\\pi$ unter Python verwenden zu können, muss man sie entweder selbst definieren oder z.B. aus dem [NumPy-Modul](https://numpy.org/) importieren. Für ein Beispiel den folgenden Code-Abschnitt öffnen."
   ]
  },
  {
   "cell_type": "code",
   "execution_count": 5,
   "metadata": {
    "jupyter": {
     "source_hidden": true
    },
    "tags": []
   },
   "outputs": [
    {
     "name": "stdout",
     "output_type": "stream",
     "text": [
      "Radius: 1.78 km\n"
     ]
    }
   ],
   "source": [
    "# Importiere pi aus numpy\n",
    "from numpy import pi\n",
    "\n",
    "# Berechne den \"Radius\" der Seeoberfläche\n",
    "r0 = (A0/pi)**0.5\n",
    "print(f'Radius: {r0/1000:.2f} km')"
   ]
  },
  {
   "cell_type": "markdown",
   "metadata": {},
   "source": [
    "### 2) Leerung des Sees\n",
    "\n",
    "**2.1) Schreiben Sie eine Funktion, die die Tiefe des \"Kegel\"-Sees (in Metern) allgemein abhängig von der enthaltenen Wassermenge bestimmt.**\n",
    "\n",
    "Beachten Sie, dass sich die Form des Sees [nicht verändert](https://de.wikipedia.org/wiki/Strahlensatz) und somit der oben gegebene Wert für die Oberfläche nur bei vollem See gilt."
   ]
  },
  {
   "cell_type": "code",
   "execution_count": 6,
   "metadata": {},
   "outputs": [],
   "source": [
    "from math import pi\n",
    "def tiefe(V):\n",
    "    return ((V*3*h0**2)/(pi*r0**2))**(1/3)"
   ]
  },
  {
   "cell_type": "code",
   "execution_count": 7,
   "metadata": {
    "deletable": false,
    "editable": false,
    "tags": []
   },
   "outputs": [],
   "source": [
    "# Hier sind einige Plausibilitäts-Tests:\n",
    "assert abs(h0-tiefe(215e6)) < 1e-5\n",
    "assert abs(50-tiefe(1e8)) < 0.1"
   ]
  },
  {
   "cell_type": "markdown",
   "metadata": {},
   "source": [
    "**2.2) Schreiben Sie eine Funktion, die den diskreten Zeitverlauf der Wassertiefe $h(t)$ bis zur Leerung des Sees zurückgibt.**\n",
    "\n",
    "  * Die Funktion soll ein Startvolumen $V_0$ und eine Zeitschrittweite $\\Delta t$ übergeben bekommen.\n",
    "  * Verwenden Sie in den Berechnungen standardmäßig [SI-Einheiten](https://de.wikipedia.org/wiki/Internationales_Einheitensystem).\n",
    "  * Beachten Sie, dass sich auch der Volumenstrom zeitlich ändert.\n",
    "  * Die Funktion soll alle berechneten Zeiten und die jeweils zugehörigen Tiefen in zwei getrennten Listen zurückgeben.\n",
    "  \n",
    "Hinweis: Die Änderung des Volumens lässt sich annähernd über $V_{n+1}=V_n-\\dot{V_n} \\cdot \\Delta t$ beschreiben."
   ]
  },
  {
   "cell_type": "code",
   "execution_count": 8,
   "metadata": {},
   "outputs": [
    {
     "name": "stdout",
     "output_type": "stream",
     "text": [
      "[93.73742493450432, 87.5419902755582, 81.41676103332593, 75.3651373381735, 69.39091528953846, 63.498363875826804, 57.692323739485865, 51.97833627650909, 46.36281590693187, 40.85328556966002, 35.45870799331287, 30.1899680576257, 25.060605624282523, 20.087990213907432, 15.295340453808148, 10.715544428084527, 6.399472721288938, 2.438726864812525, 0]\n",
      "([93.73742493450432, 87.5419902755582, 81.41676103332593, 75.3651373381735, 69.39091528953846, 63.498363875826804, 57.692323739485865, 51.97833627650909, 46.36281590693187, 40.85328556966002, 35.45870799331287, 30.1899680576257, 25.060605624282523, 20.087990213907432, 15.295340453808148, 10.715544428084527, 6.399472721288938, 2.438726864812525, -0.9337331167227498], [0, 1, 2, 3, 4, 5, 6, 7, 8, 9, 10, 11, 12, 13, 14, 15, 16, 17, 18])\n"
     ]
    }
   ],
   "source": [
    "def abfluss(V0, dt):\n",
    "\n",
    "    werteVolumen = []\n",
    "    werteZeit = []\n",
    "\n",
    "    t_n = 0\n",
    "    V_n = V0\n",
    "    while V_n > 0:\n",
    "        tiefe_berechnet = tiefe(V_n)\n",
    "        if type(tiefe_berechnet) == complex:\n",
    "            u = 0\n",
    "        else:\n",
    "            u = sqrt(2 * 9.81 * tiefe_berechnet)\n",
    "        v_dot = 2 * u\n",
    "        V_n = V_n - v_dot * dt\n",
    "        werteVolumen.append(V_n)\n",
    "        werteZeit.append(t_n)\n",
    "        t_n += dt\n",
    "\n",
    "    return werteVolumen, werteZeit\n",
    "\n",
    "def abflussRecursive(V0, dt, time = 0):\n",
    "    tiefe_berechnet = tiefe(V0)\n",
    "    if type(tiefe_berechnet) == complex:\n",
    "        u = 0\n",
    "    else:\n",
    "        u = sqrt(2 * 9.81 * tiefe_berechnet)\n",
    "    v_dot = 2 * u\n",
    "    V_n = V0 - v_dot * dt\n",
    "    if V_n >= 0:\n",
    "        return [V_n] + abflussRecursive(V_n, dt)   # Zeit noch integrieren über time Parameter \n",
    "    else:\n",
    "        return([0])\n",
    "\n",
    "print(abflussRecursive(100,1))\n",
    "print(abfluss(100,1))\n"
   ]
  },
  {
   "cell_type": "code",
   "execution_count": 9,
   "metadata": {
    "deletable": false,
    "editable": false,
    "tags": []
   },
   "outputs": [],
   "source": [
    "# Hier sind einige Plausibilitäts-Tests:\n",
    "assert len(abfluss(10,1))==2\n",
    "assert type(abfluss(10,1)[0])==type(abfluss(10,1)[1])==list"
   ]
  },
  {
   "cell_type": "markdown",
   "metadata": {},
   "source": [
    "**2.3) Wie lange dauert es, bis der Stausee komplett abgelassen wurde?** \n",
    "\n",
    "Plotten Sie den Zeitverlauf der Wassertiefe bis zur Leerung für zwei Zeitschrittweiten:\n",
    "  * $\\Delta t_1$ = 1 Minute\n",
    "  * $\\Delta t_2$ = 4 Tage\n",
    "\n",
    "**Diskutieren Sie Auffälligkeiten.**"
   ]
  },
  {
   "cell_type": "code",
   "execution_count": 10,
   "metadata": {},
   "outputs": [
    {
     "ename": "ModuleNotFoundError",
     "evalue": "No module named 'matplotlib'",
     "output_type": "error",
     "traceback": [
      "\u001b[1;31m---------------------------------------------------------------------------\u001b[0m",
      "\u001b[1;31mModuleNotFoundError\u001b[0m                       Traceback (most recent call last)",
      "\u001b[1;32md:\\DOKUMENTE\\Uni\\SoSe22\\Python fuer Ingenieure\\Python_fuer_Ingenieure\\HA2_Gruppe214.ipynb Cell 18'\u001b[0m in \u001b[0;36m<cell line: 1>\u001b[1;34m()\u001b[0m\n\u001b[1;32m----> <a href='vscode-notebook-cell:/d%3A/DOKUMENTE/Uni/SoSe22/Python%20fuer%20Ingenieure/Python_fuer_Ingenieure/HA2_Gruppe214.ipynb#ch0000017?line=0'>1</a>\u001b[0m get_ipython()\u001b[39m.\u001b[39;49mrun_line_magic(\u001b[39m'\u001b[39;49m\u001b[39mmatplotlib\u001b[39;49m\u001b[39m'\u001b[39;49m, \u001b[39m'\u001b[39;49m\u001b[39minline\u001b[39;49m\u001b[39m'\u001b[39;49m)\n\u001b[0;32m      <a href='vscode-notebook-cell:/d%3A/DOKUMENTE/Uni/SoSe22/Python%20fuer%20Ingenieure/Python_fuer_Ingenieure/HA2_Gruppe214.ipynb#ch0000017?line=1'>2</a>\u001b[0m \u001b[39mfrom\u001b[39;00m \u001b[39mmatplotlib\u001b[39;00m\u001b[39m.\u001b[39;00m\u001b[39mpyplot\u001b[39;00m \u001b[39mimport\u001b[39;00m plot, show\n\u001b[0;32m      <a href='vscode-notebook-cell:/d%3A/DOKUMENTE/Uni/SoSe22/Python%20fuer%20Ingenieure/Python_fuer_Ingenieure/HA2_Gruppe214.ipynb#ch0000017?line=2'>3</a>\u001b[0m \u001b[39m# Plotbefehl: plot(x_werte_liste, y_werte_liste)\u001b[39;00m\n\u001b[0;32m      <a href='vscode-notebook-cell:/d%3A/DOKUMENTE/Uni/SoSe22/Python%20fuer%20Ingenieure/Python_fuer_Ingenieure/HA2_Gruppe214.ipynb#ch0000017?line=3'>4</a>\u001b[0m \u001b[39m# Hier eigenen Code schreiben ...\u001b[39;00m\n",
      "File \u001b[1;32m~\\AppData\\Roaming\\Python\\Python39\\site-packages\\IPython\\core\\interactiveshell.py:2294\u001b[0m, in \u001b[0;36mInteractiveShell.run_line_magic\u001b[1;34m(self, magic_name, line, _stack_depth)\u001b[0m\n\u001b[0;32m   <a href='file:///c%3A/Users/Julius/AppData/Roaming/Python/Python39/site-packages/IPython/core/interactiveshell.py?line=2291'>2292</a>\u001b[0m     kwargs[\u001b[39m'\u001b[39m\u001b[39mlocal_ns\u001b[39m\u001b[39m'\u001b[39m] \u001b[39m=\u001b[39m \u001b[39mself\u001b[39m\u001b[39m.\u001b[39mget_local_scope(stack_depth)\n\u001b[0;32m   <a href='file:///c%3A/Users/Julius/AppData/Roaming/Python/Python39/site-packages/IPython/core/interactiveshell.py?line=2292'>2293</a>\u001b[0m \u001b[39mwith\u001b[39;00m \u001b[39mself\u001b[39m\u001b[39m.\u001b[39mbuiltin_trap:\n\u001b[1;32m-> <a href='file:///c%3A/Users/Julius/AppData/Roaming/Python/Python39/site-packages/IPython/core/interactiveshell.py?line=2293'>2294</a>\u001b[0m     result \u001b[39m=\u001b[39m fn(\u001b[39m*\u001b[39margs, \u001b[39m*\u001b[39m\u001b[39m*\u001b[39mkwargs)\n\u001b[0;32m   <a href='file:///c%3A/Users/Julius/AppData/Roaming/Python/Python39/site-packages/IPython/core/interactiveshell.py?line=2294'>2295</a>\u001b[0m \u001b[39mreturn\u001b[39;00m result\n",
      "File \u001b[1;32m~\\AppData\\Roaming\\Python\\Python39\\site-packages\\IPython\\core\\magics\\pylab.py:99\u001b[0m, in \u001b[0;36mPylabMagics.matplotlib\u001b[1;34m(self, line)\u001b[0m\n\u001b[0;32m     <a href='file:///c%3A/Users/Julius/AppData/Roaming/Python/Python39/site-packages/IPython/core/magics/pylab.py?line=96'>97</a>\u001b[0m     \u001b[39mprint\u001b[39m(\u001b[39m\"\u001b[39m\u001b[39mAvailable matplotlib backends: \u001b[39m\u001b[39m%s\u001b[39;00m\u001b[39m\"\u001b[39m \u001b[39m%\u001b[39m backends_list)\n\u001b[0;32m     <a href='file:///c%3A/Users/Julius/AppData/Roaming/Python/Python39/site-packages/IPython/core/magics/pylab.py?line=97'>98</a>\u001b[0m \u001b[39melse\u001b[39;00m:\n\u001b[1;32m---> <a href='file:///c%3A/Users/Julius/AppData/Roaming/Python/Python39/site-packages/IPython/core/magics/pylab.py?line=98'>99</a>\u001b[0m     gui, backend \u001b[39m=\u001b[39m \u001b[39mself\u001b[39;49m\u001b[39m.\u001b[39;49mshell\u001b[39m.\u001b[39;49menable_matplotlib(args\u001b[39m.\u001b[39;49mgui\u001b[39m.\u001b[39;49mlower() \u001b[39mif\u001b[39;49;00m \u001b[39misinstance\u001b[39;49m(args\u001b[39m.\u001b[39;49mgui, \u001b[39mstr\u001b[39;49m) \u001b[39melse\u001b[39;49;00m args\u001b[39m.\u001b[39;49mgui)\n\u001b[0;32m    <a href='file:///c%3A/Users/Julius/AppData/Roaming/Python/Python39/site-packages/IPython/core/magics/pylab.py?line=99'>100</a>\u001b[0m     \u001b[39mself\u001b[39m\u001b[39m.\u001b[39m_show_matplotlib_backend(args\u001b[39m.\u001b[39mgui, backend)\n",
      "File \u001b[1;32m~\\AppData\\Roaming\\Python\\Python39\\site-packages\\IPython\\core\\interactiveshell.py:3444\u001b[0m, in \u001b[0;36mInteractiveShell.enable_matplotlib\u001b[1;34m(self, gui)\u001b[0m\n\u001b[0;32m   <a href='file:///c%3A/Users/Julius/AppData/Roaming/Python/Python39/site-packages/IPython/core/interactiveshell.py?line=3422'>3423</a>\u001b[0m \u001b[39mdef\u001b[39;00m \u001b[39menable_matplotlib\u001b[39m(\u001b[39mself\u001b[39m, gui\u001b[39m=\u001b[39m\u001b[39mNone\u001b[39;00m):\n\u001b[0;32m   <a href='file:///c%3A/Users/Julius/AppData/Roaming/Python/Python39/site-packages/IPython/core/interactiveshell.py?line=3423'>3424</a>\u001b[0m     \u001b[39m\"\"\"Enable interactive matplotlib and inline figure support.\u001b[39;00m\n\u001b[0;32m   <a href='file:///c%3A/Users/Julius/AppData/Roaming/Python/Python39/site-packages/IPython/core/interactiveshell.py?line=3424'>3425</a>\u001b[0m \n\u001b[0;32m   <a href='file:///c%3A/Users/Julius/AppData/Roaming/Python/Python39/site-packages/IPython/core/interactiveshell.py?line=3425'>3426</a>\u001b[0m \u001b[39m    This takes the following steps:\u001b[39;00m\n\u001b[1;32m   (...)\u001b[0m\n\u001b[0;32m   <a href='file:///c%3A/Users/Julius/AppData/Roaming/Python/Python39/site-packages/IPython/core/interactiveshell.py?line=3441'>3442</a>\u001b[0m \u001b[39m        display figures inline.\u001b[39;00m\n\u001b[0;32m   <a href='file:///c%3A/Users/Julius/AppData/Roaming/Python/Python39/site-packages/IPython/core/interactiveshell.py?line=3442'>3443</a>\u001b[0m \u001b[39m    \"\"\"\u001b[39;00m\n\u001b[1;32m-> <a href='file:///c%3A/Users/Julius/AppData/Roaming/Python/Python39/site-packages/IPython/core/interactiveshell.py?line=3443'>3444</a>\u001b[0m     \u001b[39mfrom\u001b[39;00m \u001b[39mmatplotlib_inline\u001b[39;00m\u001b[39m.\u001b[39;00m\u001b[39mbackend_inline\u001b[39;00m \u001b[39mimport\u001b[39;00m configure_inline_support\n\u001b[0;32m   <a href='file:///c%3A/Users/Julius/AppData/Roaming/Python/Python39/site-packages/IPython/core/interactiveshell.py?line=3445'>3446</a>\u001b[0m     \u001b[39mfrom\u001b[39;00m \u001b[39mIPython\u001b[39;00m\u001b[39m.\u001b[39;00m\u001b[39mcore\u001b[39;00m \u001b[39mimport\u001b[39;00m pylabtools \u001b[39mas\u001b[39;00m pt\n\u001b[0;32m   <a href='file:///c%3A/Users/Julius/AppData/Roaming/Python/Python39/site-packages/IPython/core/interactiveshell.py?line=3446'>3447</a>\u001b[0m     gui, backend \u001b[39m=\u001b[39m pt\u001b[39m.\u001b[39mfind_gui_and_backend(gui, \u001b[39mself\u001b[39m\u001b[39m.\u001b[39mpylab_gui_select)\n",
      "File \u001b[1;32m~\\AppData\\Roaming\\Python\\Python39\\site-packages\\matplotlib_inline\\backend_inline.py:6\u001b[0m, in \u001b[0;36m<module>\u001b[1;34m\u001b[0m\n\u001b[0;32m      <a href='file:///c%3A/Users/Julius/AppData/Roaming/Python/Python39/site-packages/matplotlib_inline/backend_inline.py?line=0'>1</a>\u001b[0m \u001b[39m\"\"\"A matplotlib backend for publishing figures via display_data\"\"\"\u001b[39;00m\n\u001b[0;32m      <a href='file:///c%3A/Users/Julius/AppData/Roaming/Python/Python39/site-packages/matplotlib_inline/backend_inline.py?line=2'>3</a>\u001b[0m \u001b[39m# Copyright (c) IPython Development Team.\u001b[39;00m\n\u001b[0;32m      <a href='file:///c%3A/Users/Julius/AppData/Roaming/Python/Python39/site-packages/matplotlib_inline/backend_inline.py?line=3'>4</a>\u001b[0m \u001b[39m# Distributed under the terms of the BSD 3-Clause License.\u001b[39;00m\n\u001b[1;32m----> <a href='file:///c%3A/Users/Julius/AppData/Roaming/Python/Python39/site-packages/matplotlib_inline/backend_inline.py?line=5'>6</a>\u001b[0m \u001b[39mimport\u001b[39;00m \u001b[39mmatplotlib\u001b[39;00m\n\u001b[0;32m      <a href='file:///c%3A/Users/Julius/AppData/Roaming/Python/Python39/site-packages/matplotlib_inline/backend_inline.py?line=6'>7</a>\u001b[0m \u001b[39mfrom\u001b[39;00m \u001b[39mmatplotlib\u001b[39;00m\u001b[39m.\u001b[39;00m\u001b[39mbackends\u001b[39;00m\u001b[39m.\u001b[39;00m\u001b[39mbackend_agg\u001b[39;00m \u001b[39mimport\u001b[39;00m (  \u001b[39m# noqa\u001b[39;00m\n\u001b[0;32m      <a href='file:///c%3A/Users/Julius/AppData/Roaming/Python/Python39/site-packages/matplotlib_inline/backend_inline.py?line=7'>8</a>\u001b[0m     new_figure_manager,\n\u001b[0;32m      <a href='file:///c%3A/Users/Julius/AppData/Roaming/Python/Python39/site-packages/matplotlib_inline/backend_inline.py?line=8'>9</a>\u001b[0m     FigureCanvasAgg,\n\u001b[0;32m     <a href='file:///c%3A/Users/Julius/AppData/Roaming/Python/Python39/site-packages/matplotlib_inline/backend_inline.py?line=9'>10</a>\u001b[0m     new_figure_manager_given_figure,\n\u001b[0;32m     <a href='file:///c%3A/Users/Julius/AppData/Roaming/Python/Python39/site-packages/matplotlib_inline/backend_inline.py?line=10'>11</a>\u001b[0m )\n\u001b[0;32m     <a href='file:///c%3A/Users/Julius/AppData/Roaming/Python/Python39/site-packages/matplotlib_inline/backend_inline.py?line=11'>12</a>\u001b[0m \u001b[39mfrom\u001b[39;00m \u001b[39mmatplotlib\u001b[39;00m \u001b[39mimport\u001b[39;00m colors\n",
      "\u001b[1;31mModuleNotFoundError\u001b[0m: No module named 'matplotlib'"
     ]
    }
   ],
   "source": [
    "%matplotlib inline\n",
    "from matplotlib.pyplot import plot, show\n",
    "# Plotbefehl: plot(x_werte_liste, y_werte_liste)\n",
    "# Hier eigenen Code schreiben ...\n",
    "show(plot(abfluss(V,60)[1], abfluss(V,60)[0]))\n",
    "show(plot(abfluss(V,345600)[1], abfluss(V,345600)[0]))\n"
   ]
  },
  {
   "cell_type": "markdown",
   "metadata": {},
   "source": [
    "### 3) Anderer See\n",
    "\n",
    "Wiederholen Sie Aufgabenteil 2.3) unter der Annahme, dass der See bei gleichem Volumen und gleicher Oberfläche annähernd durch einen *Zylinder* beschrieben wird. Schreiben Sie hierfür möglichst wenig neuen Code."
   ]
  },
  {
   "cell_type": "code",
   "execution_count": 16,
   "metadata": {},
   "outputs": [
    {
     "data": {
      "image/png": "[encoded data removed]",
      "text/plain": [
       "<Figure size 432x288 with 1 Axes>"
      ]
     },
     "metadata": {
      "needs_background": "light"
     },
     "output_type": "display_data"
    },
    {
     "data": {
      "image/png": "[encoded data removed]",
      "text/plain": [
       "<Figure size 432x288 with 1 Axes>"
      ]
     },
     "metadata": {
      "needs_background": "light"
     },
     "output_type": "display_data"
    }
   ],
   "source": [
    "# Hier eigenen Code schreiben ...\n",
    "def tiefe_zyl(V):\n",
    "    h = V/(pi*r0**2)\n",
    "    return h\n",
    "\n",
    "def abfluss_zyl(V0, dt):\n",
    "\n",
    "    werteVolumen = []\n",
    "    werteZeit = []\n",
    "    t_n = 0\n",
    "    V_n = V0\n",
    "    while V_n > 0:\n",
    "        tiefe_berechnet = tiefe_zyl(V_n)\n",
    "        if type(tiefe_berechnet) == complex:\n",
    "            u = 0\n",
    "        else:\n",
    "            u = sqrt(2 * 9.81 * tiefe_berechnet)\n",
    "        v_dot = 2 * u\n",
    "        V_n = V_n - v_dot * dt\n",
    "        werteVolumen.append(V_n)\n",
    "        werteZeit.append(t_n)\n",
    "        t_n += dt\n",
    "\n",
    "    return werteVolumen, werteZeit   \n",
    "\n",
    "show(plot(abfluss_zyl(V,60)[1], abfluss_zyl(V,60)[0]))\n",
    "show(plot(abfluss_zyl(V,345600)[1], abfluss_zyl(V,345600)[0]))"
   ]
  }
 ],
 "metadata": {
  "interpreter": {
   "hash": "11938c6bc6919ae2720b4d5011047913343b08a43b18698fd82dedb0d4417594"
  },
  "kernelspec": {
   "display_name": "Python 3.9.5 64-bit",
   "language": "python",
   "name": "python3"
  },
  "language_info": {
   "codemirror_mode": {
    "name": "ipython",
    "version": 3
   },
   "file_extension": ".py",
   "mimetype": "text/x-python",
   "name": "python",
   "nbconvert_exporter": "python",
   "pygments_lexer": "ipython3",
   "version": "3.9.5"
  }
 },
 "nbformat": 4,
 "nbformat_minor": 4
}
